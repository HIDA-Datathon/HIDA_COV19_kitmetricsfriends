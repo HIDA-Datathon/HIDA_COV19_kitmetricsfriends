{
 "cells": [
  {
   "cell_type": "code",
   "execution_count": 44,
   "id": "966e798a-f89b-44a3-b349-1277e5b28268",
   "metadata": {},
   "outputs": [],
   "source": [
    "#Load libraries\n",
    "import numpy as np\n",
    "from sklearn.decomposition import PCA\n",
    "from pathlib import Path\n",
    "import pandas as pd\n",
    "from sklearn.preprocessing import KBinsDiscretizer\n",
    "from sklearn.model_selection import train_test_split\n",
    "#Random forest\n",
    "from sklearn.ensemble import RandomForestClassifier\n",
    "from sklearn.feature_selection import SelectFromModel\n",
    "from sklearn.model_selection import cross_val_score\n",
    "from sklearn.metrics import accuracy_score\n",
    "from sklearn.metrics import make_scorer\n",
    "import sklearn.metrics\n",
    "from sklearn.model_selection import GridSearchCV\n",
    "from sklearn import decomposition"
   ]
  },
  {
   "cell_type": "code",
   "execution_count": 29,
   "id": "7b9d900e-07ad-491f-b1e7-b13bd4d11282",
   "metadata": {},
   "outputs": [],
   "source": [
    "import pickle\n",
    "with open(r\"training_set.p\", \"rb\") as input_file:\n",
    "    data_full = pickle.load(input_file)"
   ]
  },
  {
   "cell_type": "code",
   "execution_count": 31,
   "id": "b2ce6300-47d6-4f4b-a27c-cc76de3b1f88",
   "metadata": {},
   "outputs": [
    {
     "data": {
      "text/plain": [
       "[array([[0., 0., 0., ..., 0., 0., 0.],\n",
       "        [0., 0., 0., ..., 0., 0., 0.],\n",
       "        [0., 0., 0., ..., 0., 0., 0.],\n",
       "        ...,\n",
       "        [0., 0., 0., ..., 0., 0., 0.],\n",
       "        [0., 0., 0., ..., 0., 0., 0.],\n",
       "        [0., 0., 0., ..., 0., 0., 0.]], dtype=float32),\n",
       " array([0, 1, 0, 1, 1, 0, 1, 1, 1, 0, 0, 1, 0, 1, 1, 0, 1, 1, 1, 1, 0, 1,\n",
       "        1, 1, 0, 1, 0, 1, 0, 1, 0, 0, 0, 1, 1, 0, 1, 0, 0, 0, 1, 1, 1, 0,\n",
       "        0, 1, 1, 1, 0, 0, 0, 1, 0, 0, 1, 0, 1, 1, 0, 1, 0, 0, 0, 0, 1, 0,\n",
       "        1, 1, 0, 0, 1, 1, 1, 0, 0, 0, 1, 0, 1, 0, 1, 1, 0, 1, 1, 0, 1, 1,\n",
       "        1, 0, 0, 1, 0, 1, 0, 1, 0, 0, 0, 0, 1, 0, 1, 1, 1, 0, 1, 1, 1, 0,\n",
       "        0, 1, 1, 0, 1, 0, 0, 0, 1, 1, 0, 0, 1, 0, 0, 0, 0, 0, 1, 0, 0, 1,\n",
       "        0, 0, 1, 1, 0, 0, 1, 0, 1, 1, 0, 1, 0, 0, 1, 0, 0, 0, 0, 1, 0, 0,\n",
       "        1, 0, 0, 0, 0, 1, 1, 1, 0, 0, 0, 1, 0, 0, 1, 0, 0, 0, 1, 0, 0, 0,\n",
       "        1, 0, 1, 1, 0, 1, 0, 1, 0, 0, 1, 0, 0, 1, 1, 0, 1, 1, 0, 1, 0, 0,\n",
       "        0, 1, 1, 1, 1, 0, 1, 0, 0, 0, 0, 1, 0, 1, 1, 1, 1, 0, 1, 1, 0, 0,\n",
       "        1, 0, 1, 1, 0, 1, 0, 0, 1, 1, 1, 1, 1, 1, 0, 1, 0, 0, 1, 0, 0, 0,\n",
       "        1, 0, 1, 1, 0, 0, 0, 0, 0, 1, 1, 1, 1, 1, 1, 1, 0, 0, 0, 1, 0, 0,\n",
       "        0, 1, 0, 0, 1, 1, 0, 0, 0, 0, 1, 1, 1, 0, 1, 1, 0, 1, 1, 0, 0, 1,\n",
       "        1, 0, 1, 0, 1, 1, 1, 0, 0, 0, 0, 1, 1, 1, 0, 1, 1, 1, 1, 0, 0, 0,\n",
       "        1, 0, 0, 1, 0, 1, 1, 0, 0, 1, 1, 0, 0, 1, 0, 1, 0, 1, 0, 0, 1, 1,\n",
       "        1, 1, 1, 1, 1, 0, 0, 1, 0, 1, 0, 1, 1, 1, 1, 0, 0, 1, 1, 1, 1, 1,\n",
       "        0, 0, 1, 0, 0, 1, 0, 1, 0, 0, 0, 0, 0, 1, 0, 0, 1, 0, 1, 0, 0, 1,\n",
       "        0, 0, 0, 1, 1, 0, 1, 0, 1, 1, 0, 0, 1, 1, 0, 0, 1, 0, 1, 0, 0, 1,\n",
       "        1, 1, 0, 0, 0, 0, 0, 0, 1, 0, 1, 0, 0, 1, 1, 0, 1, 0, 1, 1, 0, 1,\n",
       "        1, 1, 0, 1, 1, 1, 0, 1, 1, 1, 1, 0, 1, 1, 0, 1, 1, 0, 1, 0, 0, 1,\n",
       "        0, 1, 0, 0, 0, 1, 0, 0, 0, 1, 0, 1, 0, 1, 1, 0, 1, 1, 0, 1, 1, 1,\n",
       "        1, 0, 0, 0, 1, 0, 1, 0, 1, 1, 0, 1, 0, 1, 0, 0, 1, 0, 0, 0, 0, 0,\n",
       "        0, 0, 0, 1, 1, 1, 0, 1, 1, 1, 1, 1, 0, 1, 0, 0, 0, 0, 1, 0, 0, 0,\n",
       "        1, 0, 0, 0, 0, 1, 1, 1, 1, 1, 1, 1, 1, 0, 1, 1, 1, 0, 1, 1, 0, 0,\n",
       "        1, 1, 1, 0, 0, 0, 0, 0, 0, 1, 1, 0, 1, 0, 0, 0, 0, 0, 0, 1, 1, 0,\n",
       "        1, 0, 1, 1, 1, 0, 1, 0, 0, 1, 0, 0, 0, 1, 1, 0, 1, 1, 0, 0, 0, 0,\n",
       "        0, 1, 1, 1, 1, 0, 1, 0, 1, 1, 1, 1, 0, 1, 1, 1, 1, 0, 1, 1, 1, 1,\n",
       "        1, 1, 1, 0, 1, 0, 0, 1, 0, 0, 1, 1, 0, 1, 0, 1, 1, 1, 0, 1, 0, 0,\n",
       "        1, 0, 1, 0, 0, 1, 0, 0, 1, 1, 0, 0, 0, 1, 1, 0, 0, 0, 0, 0, 1, 0,\n",
       "        1, 0, 1, 0, 1, 1, 0, 0, 1, 0, 1, 0, 1, 0, 0, 0, 1, 1, 0, 1, 1, 1,\n",
       "        0, 1, 0, 0, 0, 0, 0, 0, 1, 0, 1, 0, 0, 0, 1, 1, 1, 1, 0, 0, 1, 0,\n",
       "        0, 0, 1, 0, 0, 0, 1, 0, 0, 0, 1, 0, 1, 0, 1, 1, 1, 1, 0, 1, 0, 1,\n",
       "        1, 0, 1, 0, 0, 0, 1, 0, 0, 1, 0, 1, 1, 0, 1, 0, 0, 1, 1, 0, 0, 1,\n",
       "        0, 1, 0, 0, 1, 0, 1, 0, 0, 0, 0, 0, 1, 0, 1, 0, 1, 1, 1, 0, 0, 1,\n",
       "        0, 0, 0, 0, 1, 1, 1, 1, 0, 0, 0, 1, 0, 1, 1, 1, 1, 1, 0, 0, 1, 1,\n",
       "        0, 0, 0, 0, 1, 1, 1, 1, 0, 0, 1, 0, 0, 1, 1, 1, 1, 0, 1, 1, 1, 1,\n",
       "        0, 0, 1, 1, 0, 1, 1, 1, 1, 1, 1, 1, 0, 0, 1, 1, 0, 0, 1, 0, 0, 0,\n",
       "        0, 1, 0, 0, 1, 1, 0, 0, 0, 0, 0, 0, 1, 1, 1, 1, 0, 0, 0, 1, 1, 0,\n",
       "        0, 1, 1, 0, 1, 0, 1, 0, 0, 1, 1, 0, 0, 0, 0, 0, 1, 0, 1, 1, 1, 0,\n",
       "        1, 0, 1, 1, 0], dtype=int32)]"
      ]
     },
     "execution_count": 31,
     "metadata": {},
     "output_type": "execute_result"
    }
   ],
   "source": [
    "data_full"
   ]
  },
  {
   "cell_type": "code",
   "execution_count": 33,
   "id": "5c424139-a85f-4478-b309-9b75cb7b84f8",
   "metadata": {},
   "outputs": [
    {
     "data": {
      "text/html": [
       "<div>\n",
       "<style scoped>\n",
       "    .dataframe tbody tr th:only-of-type {\n",
       "        vertical-align: middle;\n",
       "    }\n",
       "\n",
       "    .dataframe tbody tr th {\n",
       "        vertical-align: top;\n",
       "    }\n",
       "\n",
       "    .dataframe thead th {\n",
       "        text-align: right;\n",
       "    }\n",
       "</style>\n",
       "<table border=\"1\" class=\"dataframe\">\n",
       "  <thead>\n",
       "    <tr style=\"text-align: right;\">\n",
       "      <th></th>\n",
       "      <th>0</th>\n",
       "    </tr>\n",
       "  </thead>\n",
       "  <tbody>\n",
       "    <tr>\n",
       "      <th>count</th>\n",
       "      <td>863.000000</td>\n",
       "    </tr>\n",
       "    <tr>\n",
       "      <th>mean</th>\n",
       "      <td>0.492468</td>\n",
       "    </tr>\n",
       "    <tr>\n",
       "      <th>std</th>\n",
       "      <td>0.500233</td>\n",
       "    </tr>\n",
       "    <tr>\n",
       "      <th>min</th>\n",
       "      <td>0.000000</td>\n",
       "    </tr>\n",
       "    <tr>\n",
       "      <th>25%</th>\n",
       "      <td>0.000000</td>\n",
       "    </tr>\n",
       "    <tr>\n",
       "      <th>50%</th>\n",
       "      <td>0.000000</td>\n",
       "    </tr>\n",
       "    <tr>\n",
       "      <th>75%</th>\n",
       "      <td>1.000000</td>\n",
       "    </tr>\n",
       "    <tr>\n",
       "      <th>max</th>\n",
       "      <td>1.000000</td>\n",
       "    </tr>\n",
       "  </tbody>\n",
       "</table>\n",
       "</div>"
      ],
      "text/plain": [
       "                0\n",
       "count  863.000000\n",
       "mean     0.492468\n",
       "std      0.500233\n",
       "min      0.000000\n",
       "25%      0.000000\n",
       "50%      0.000000\n",
       "75%      1.000000\n",
       "max      1.000000"
      ]
     },
     "execution_count": 33,
     "metadata": {},
     "output_type": "execute_result"
    }
   ],
   "source": [
    "# Input data here\n",
    "y_full = data_full[1]\n",
    "x_full = data_full[0]\n",
    "#Label and x-data\n",
    "#y_full =  np.random.binomial(1, 0.5, size=600)\n",
    "#x_full = np.random.rand(600,750)\n",
    "pd.DataFrame(y_full).describe()\n",
    "#pd.DataFrame(x_full).describe()"
   ]
  },
  {
   "cell_type": "code",
   "execution_count": 46,
   "id": "89448c07-d5a2-4e02-9eb8-1817ff068096",
   "metadata": {},
   "outputs": [
    {
     "data": {
      "text/plain": [
       "PCA(n_components=100)"
      ]
     },
     "execution_count": 46,
     "metadata": {},
     "output_type": "execute_result"
    }
   ],
   "source": [
    "#Try PCA first\n",
    "pca_all = decomposition.PCA(n_components = 100) #use 150 if you want more variance explained\n",
    "pca_all.fit(x_full)\n"
   ]
  },
  {
   "cell_type": "code",
   "execution_count": 48,
   "id": "049b64ae-46a5-4b9e-98cb-af851988c018",
   "metadata": {},
   "outputs": [
    {
     "ename": "ValueError",
     "evalue": "X has 100 features, but PCA is expecting 2048 features as input.",
     "output_type": "error",
     "traceback": [
      "\u001b[0;31m---------------------------------------------------------------------------\u001b[0m",
      "\u001b[0;31mValueError\u001b[0m                                Traceback (most recent call last)",
      "\u001b[0;32m<ipython-input-48-e7bbb681bed1>\u001b[0m in \u001b[0;36m<module>\u001b[0;34m\u001b[0m\n\u001b[1;32m      1\u001b[0m \u001b[0;31m#get new X\u001b[0m\u001b[0;34m\u001b[0m\u001b[0;34m\u001b[0m\u001b[0;34m\u001b[0m\u001b[0m\n\u001b[0;32m----> 2\u001b[0;31m \u001b[0mx_full\u001b[0m \u001b[0;34m=\u001b[0m \u001b[0mpca_all\u001b[0m\u001b[0;34m.\u001b[0m\u001b[0mtransform\u001b[0m\u001b[0;34m(\u001b[0m\u001b[0mx_full\u001b[0m\u001b[0;34m)\u001b[0m\u001b[0;34m\u001b[0m\u001b[0;34m\u001b[0m\u001b[0m\n\u001b[0m\u001b[1;32m      3\u001b[0m \u001b[0mpd\u001b[0m\u001b[0;34m.\u001b[0m\u001b[0mDataFrame\u001b[0m\u001b[0;34m(\u001b[0m\u001b[0mx_full\u001b[0m\u001b[0;34m)\u001b[0m\u001b[0;34m.\u001b[0m\u001b[0mdescribe\u001b[0m\u001b[0;34m(\u001b[0m\u001b[0;34m)\u001b[0m\u001b[0;34m\u001b[0m\u001b[0;34m\u001b[0m\u001b[0m\n",
      "\u001b[0;32m/software/all/jupyter/tensorflow/lib/python3.6/site-packages/sklearn/decomposition/_base.py\u001b[0m in \u001b[0;36mtransform\u001b[0;34m(self, X)\u001b[0m\n\u001b[1;32m    113\u001b[0m         \u001b[0mcheck_is_fitted\u001b[0m\u001b[0;34m(\u001b[0m\u001b[0mself\u001b[0m\u001b[0;34m)\u001b[0m\u001b[0;34m\u001b[0m\u001b[0;34m\u001b[0m\u001b[0m\n\u001b[1;32m    114\u001b[0m \u001b[0;34m\u001b[0m\u001b[0m\n\u001b[0;32m--> 115\u001b[0;31m         \u001b[0mX\u001b[0m \u001b[0;34m=\u001b[0m \u001b[0mself\u001b[0m\u001b[0;34m.\u001b[0m\u001b[0m_validate_data\u001b[0m\u001b[0;34m(\u001b[0m\u001b[0mX\u001b[0m\u001b[0;34m,\u001b[0m \u001b[0mdtype\u001b[0m\u001b[0;34m=\u001b[0m\u001b[0;34m[\u001b[0m\u001b[0mnp\u001b[0m\u001b[0;34m.\u001b[0m\u001b[0mfloat64\u001b[0m\u001b[0;34m,\u001b[0m \u001b[0mnp\u001b[0m\u001b[0;34m.\u001b[0m\u001b[0mfloat32\u001b[0m\u001b[0;34m]\u001b[0m\u001b[0;34m,\u001b[0m \u001b[0mreset\u001b[0m\u001b[0;34m=\u001b[0m\u001b[0;32mFalse\u001b[0m\u001b[0;34m)\u001b[0m\u001b[0;34m\u001b[0m\u001b[0;34m\u001b[0m\u001b[0m\n\u001b[0m\u001b[1;32m    116\u001b[0m         \u001b[0;32mif\u001b[0m \u001b[0mself\u001b[0m\u001b[0;34m.\u001b[0m\u001b[0mmean_\u001b[0m \u001b[0;32mis\u001b[0m \u001b[0;32mnot\u001b[0m \u001b[0;32mNone\u001b[0m\u001b[0;34m:\u001b[0m\u001b[0;34m\u001b[0m\u001b[0;34m\u001b[0m\u001b[0m\n\u001b[1;32m    117\u001b[0m             \u001b[0mX\u001b[0m \u001b[0;34m=\u001b[0m \u001b[0mX\u001b[0m \u001b[0;34m-\u001b[0m \u001b[0mself\u001b[0m\u001b[0;34m.\u001b[0m\u001b[0mmean_\u001b[0m\u001b[0;34m\u001b[0m\u001b[0;34m\u001b[0m\u001b[0m\n",
      "\u001b[0;32m/software/all/jupyter/tensorflow/lib/python3.6/site-packages/sklearn/base.py\u001b[0m in \u001b[0;36m_validate_data\u001b[0;34m(self, X, y, reset, validate_separately, **check_params)\u001b[0m\n\u001b[1;32m    435\u001b[0m \u001b[0;34m\u001b[0m\u001b[0m\n\u001b[1;32m    436\u001b[0m         \u001b[0;32mif\u001b[0m \u001b[0mcheck_params\u001b[0m\u001b[0;34m.\u001b[0m\u001b[0mget\u001b[0m\u001b[0;34m(\u001b[0m\u001b[0;34m'ensure_2d'\u001b[0m\u001b[0;34m,\u001b[0m \u001b[0;32mTrue\u001b[0m\u001b[0;34m)\u001b[0m\u001b[0;34m:\u001b[0m\u001b[0;34m\u001b[0m\u001b[0;34m\u001b[0m\u001b[0m\n\u001b[0;32m--> 437\u001b[0;31m             \u001b[0mself\u001b[0m\u001b[0;34m.\u001b[0m\u001b[0m_check_n_features\u001b[0m\u001b[0;34m(\u001b[0m\u001b[0mX\u001b[0m\u001b[0;34m,\u001b[0m \u001b[0mreset\u001b[0m\u001b[0;34m=\u001b[0m\u001b[0mreset\u001b[0m\u001b[0;34m)\u001b[0m\u001b[0;34m\u001b[0m\u001b[0;34m\u001b[0m\u001b[0m\n\u001b[0m\u001b[1;32m    438\u001b[0m \u001b[0;34m\u001b[0m\u001b[0m\n\u001b[1;32m    439\u001b[0m         \u001b[0;32mreturn\u001b[0m \u001b[0mout\u001b[0m\u001b[0;34m\u001b[0m\u001b[0;34m\u001b[0m\u001b[0m\n",
      "\u001b[0;32m/software/all/jupyter/tensorflow/lib/python3.6/site-packages/sklearn/base.py\u001b[0m in \u001b[0;36m_check_n_features\u001b[0;34m(self, X, reset)\u001b[0m\n\u001b[1;32m    364\u001b[0m         \u001b[0;32mif\u001b[0m \u001b[0mn_features\u001b[0m \u001b[0;34m!=\u001b[0m \u001b[0mself\u001b[0m\u001b[0;34m.\u001b[0m\u001b[0mn_features_in_\u001b[0m\u001b[0;34m:\u001b[0m\u001b[0;34m\u001b[0m\u001b[0;34m\u001b[0m\u001b[0m\n\u001b[1;32m    365\u001b[0m             raise ValueError(\n\u001b[0;32m--> 366\u001b[0;31m                 \u001b[0;34mf\"X has {n_features} features, but {self.__class__.__name__} \"\u001b[0m\u001b[0;34m\u001b[0m\u001b[0;34m\u001b[0m\u001b[0m\n\u001b[0m\u001b[1;32m    367\u001b[0m                 f\"is expecting {self.n_features_in_} features as input.\")\n\u001b[1;32m    368\u001b[0m \u001b[0;34m\u001b[0m\u001b[0m\n",
      "\u001b[0;31mValueError\u001b[0m: X has 100 features, but PCA is expecting 2048 features as input."
     ]
    }
   ],
   "source": [
    "#get new X\n",
    "x_full = pca_all.transform(x_full)"
   ]
  },
  {
   "cell_type": "code",
   "execution_count": 49,
   "id": "576095fb-fbb2-444a-8954-f4434e297cd9",
   "metadata": {},
   "outputs": [
    {
     "data": {
      "text/html": [
       "<div>\n",
       "<style scoped>\n",
       "    .dataframe tbody tr th:only-of-type {\n",
       "        vertical-align: middle;\n",
       "    }\n",
       "\n",
       "    .dataframe tbody tr th {\n",
       "        vertical-align: top;\n",
       "    }\n",
       "\n",
       "    .dataframe thead th {\n",
       "        text-align: right;\n",
       "    }\n",
       "</style>\n",
       "<table border=\"1\" class=\"dataframe\">\n",
       "  <thead>\n",
       "    <tr style=\"text-align: right;\">\n",
       "      <th></th>\n",
       "      <th>0</th>\n",
       "      <th>1</th>\n",
       "      <th>2</th>\n",
       "      <th>3</th>\n",
       "      <th>4</th>\n",
       "      <th>5</th>\n",
       "      <th>6</th>\n",
       "      <th>7</th>\n",
       "      <th>8</th>\n",
       "      <th>9</th>\n",
       "      <th>...</th>\n",
       "      <th>90</th>\n",
       "      <th>91</th>\n",
       "      <th>92</th>\n",
       "      <th>93</th>\n",
       "      <th>94</th>\n",
       "      <th>95</th>\n",
       "      <th>96</th>\n",
       "      <th>97</th>\n",
       "      <th>98</th>\n",
       "      <th>99</th>\n",
       "    </tr>\n",
       "  </thead>\n",
       "  <tbody>\n",
       "    <tr>\n",
       "      <th>count</th>\n",
       "      <td>863.000000</td>\n",
       "      <td>863.000000</td>\n",
       "      <td>8.630000e+02</td>\n",
       "      <td>863.000000</td>\n",
       "      <td>8.630000e+02</td>\n",
       "      <td>8.630000e+02</td>\n",
       "      <td>863.000000</td>\n",
       "      <td>8.630000e+02</td>\n",
       "      <td>8.630000e+02</td>\n",
       "      <td>8.630000e+02</td>\n",
       "      <td>...</td>\n",
       "      <td>8.630000e+02</td>\n",
       "      <td>8.630000e+02</td>\n",
       "      <td>863.000000</td>\n",
       "      <td>8.630000e+02</td>\n",
       "      <td>8.630000e+02</td>\n",
       "      <td>8.630000e+02</td>\n",
       "      <td>8.630000e+02</td>\n",
       "      <td>8.630000e+02</td>\n",
       "      <td>8.630000e+02</td>\n",
       "      <td>8.630000e+02</td>\n",
       "    </tr>\n",
       "    <tr>\n",
       "      <th>mean</th>\n",
       "      <td>0.000004</td>\n",
       "      <td>-0.000005</td>\n",
       "      <td>-6.077878e-08</td>\n",
       "      <td>-0.000003</td>\n",
       "      <td>-3.978247e-07</td>\n",
       "      <td>9.514642e-07</td>\n",
       "      <td>-0.000001</td>\n",
       "      <td>4.271091e-07</td>\n",
       "      <td>-4.798761e-07</td>\n",
       "      <td>6.812749e-07</td>\n",
       "      <td>...</td>\n",
       "      <td>7.062770e-07</td>\n",
       "      <td>1.801262e-07</td>\n",
       "      <td>0.000001</td>\n",
       "      <td>-3.049990e-07</td>\n",
       "      <td>6.539244e-07</td>\n",
       "      <td>-2.997499e-07</td>\n",
       "      <td>4.307351e-07</td>\n",
       "      <td>1.534664e-07</td>\n",
       "      <td>-1.887250e-07</td>\n",
       "      <td>-3.051716e-07</td>\n",
       "    </tr>\n",
       "    <tr>\n",
       "      <th>std</th>\n",
       "      <td>2.903463</td>\n",
       "      <td>1.271854</td>\n",
       "      <td>1.227888e+00</td>\n",
       "      <td>1.146520</td>\n",
       "      <td>9.209772e-01</td>\n",
       "      <td>8.445960e-01</td>\n",
       "      <td>0.762596</td>\n",
       "      <td>6.650893e-01</td>\n",
       "      <td>6.480258e-01</td>\n",
       "      <td>5.509889e-01</td>\n",
       "      <td>...</td>\n",
       "      <td>8.149730e-02</td>\n",
       "      <td>7.994579e-02</td>\n",
       "      <td>0.079575</td>\n",
       "      <td>7.852906e-02</td>\n",
       "      <td>7.796175e-02</td>\n",
       "      <td>7.783684e-02</td>\n",
       "      <td>7.537352e-02</td>\n",
       "      <td>7.462294e-02</td>\n",
       "      <td>7.410250e-02</td>\n",
       "      <td>7.296871e-02</td>\n",
       "    </tr>\n",
       "    <tr>\n",
       "      <th>min</th>\n",
       "      <td>-5.924027</td>\n",
       "      <td>-3.423483</td>\n",
       "      <td>-4.489536e+00</td>\n",
       "      <td>-2.888275</td>\n",
       "      <td>-3.092030e+00</td>\n",
       "      <td>-3.133662e+00</td>\n",
       "      <td>-2.651993</td>\n",
       "      <td>-2.150130e+00</td>\n",
       "      <td>-1.800069e+00</td>\n",
       "      <td>-1.475133e+00</td>\n",
       "      <td>...</td>\n",
       "      <td>-2.921217e-01</td>\n",
       "      <td>-3.379734e-01</td>\n",
       "      <td>-0.379355</td>\n",
       "      <td>-2.624988e-01</td>\n",
       "      <td>-2.637689e-01</td>\n",
       "      <td>-3.544321e-01</td>\n",
       "      <td>-2.349452e-01</td>\n",
       "      <td>-2.154722e-01</td>\n",
       "      <td>-2.640032e-01</td>\n",
       "      <td>-2.601485e-01</td>\n",
       "    </tr>\n",
       "    <tr>\n",
       "      <th>25%</th>\n",
       "      <td>-2.247991</td>\n",
       "      <td>-0.767917</td>\n",
       "      <td>-8.127637e-01</td>\n",
       "      <td>-0.778933</td>\n",
       "      <td>-6.250587e-01</td>\n",
       "      <td>-5.001075e-01</td>\n",
       "      <td>-0.469976</td>\n",
       "      <td>-4.550333e-01</td>\n",
       "      <td>-4.141287e-01</td>\n",
       "      <td>-3.813930e-01</td>\n",
       "      <td>...</td>\n",
       "      <td>-4.899773e-02</td>\n",
       "      <td>-4.895527e-02</td>\n",
       "      <td>-0.045104</td>\n",
       "      <td>-4.879159e-02</td>\n",
       "      <td>-5.480057e-02</td>\n",
       "      <td>-4.909454e-02</td>\n",
       "      <td>-4.719900e-02</td>\n",
       "      <td>-5.022101e-02</td>\n",
       "      <td>-4.712421e-02</td>\n",
       "      <td>-4.246395e-02</td>\n",
       "    </tr>\n",
       "    <tr>\n",
       "      <th>50%</th>\n",
       "      <td>-0.179334</td>\n",
       "      <td>-0.083923</td>\n",
       "      <td>8.521759e-02</td>\n",
       "      <td>-0.130934</td>\n",
       "      <td>-3.642700e-02</td>\n",
       "      <td>1.840365e-02</td>\n",
       "      <td>-0.042228</td>\n",
       "      <td>-5.638916e-02</td>\n",
       "      <td>-3.283519e-03</td>\n",
       "      <td>-3.306805e-02</td>\n",
       "      <td>...</td>\n",
       "      <td>1.767911e-04</td>\n",
       "      <td>2.570747e-03</td>\n",
       "      <td>-0.002666</td>\n",
       "      <td>-9.439141e-05</td>\n",
       "      <td>1.129597e-03</td>\n",
       "      <td>2.173834e-03</td>\n",
       "      <td>-2.011247e-04</td>\n",
       "      <td>-6.277151e-04</td>\n",
       "      <td>1.706622e-03</td>\n",
       "      <td>-1.331348e-03</td>\n",
       "    </tr>\n",
       "    <tr>\n",
       "      <th>75%</th>\n",
       "      <td>2.028249</td>\n",
       "      <td>0.671135</td>\n",
       "      <td>8.434432e-01</td>\n",
       "      <td>0.634597</td>\n",
       "      <td>6.103601e-01</td>\n",
       "      <td>5.436060e-01</td>\n",
       "      <td>0.455045</td>\n",
       "      <td>3.840629e-01</td>\n",
       "      <td>3.983438e-01</td>\n",
       "      <td>3.010271e-01</td>\n",
       "      <td>...</td>\n",
       "      <td>5.012901e-02</td>\n",
       "      <td>4.551029e-02</td>\n",
       "      <td>0.047702</td>\n",
       "      <td>5.039289e-02</td>\n",
       "      <td>5.200769e-02</td>\n",
       "      <td>4.660066e-02</td>\n",
       "      <td>4.672504e-02</td>\n",
       "      <td>4.919171e-02</td>\n",
       "      <td>4.632358e-02</td>\n",
       "      <td>4.502040e-02</td>\n",
       "    </tr>\n",
       "    <tr>\n",
       "      <th>max</th>\n",
       "      <td>9.400922</td>\n",
       "      <td>5.528552</td>\n",
       "      <td>4.758934e+00</td>\n",
       "      <td>5.382077</td>\n",
       "      <td>3.156904e+00</td>\n",
       "      <td>3.347639e+00</td>\n",
       "      <td>3.713262</td>\n",
       "      <td>2.702805e+00</td>\n",
       "      <td>3.812306e+00</td>\n",
       "      <td>2.124125e+00</td>\n",
       "      <td>...</td>\n",
       "      <td>4.033509e-01</td>\n",
       "      <td>5.086499e-01</td>\n",
       "      <td>0.394754</td>\n",
       "      <td>2.900116e-01</td>\n",
       "      <td>2.848226e-01</td>\n",
       "      <td>4.684196e-01</td>\n",
       "      <td>2.550550e-01</td>\n",
       "      <td>3.347202e-01</td>\n",
       "      <td>2.812885e-01</td>\n",
       "      <td>2.715169e-01</td>\n",
       "    </tr>\n",
       "  </tbody>\n",
       "</table>\n",
       "<p>8 rows × 100 columns</p>\n",
       "</div>"
      ],
      "text/plain": [
       "               0           1             2           3             4   \\\n",
       "count  863.000000  863.000000  8.630000e+02  863.000000  8.630000e+02   \n",
       "mean     0.000004   -0.000005 -6.077878e-08   -0.000003 -3.978247e-07   \n",
       "std      2.903463    1.271854  1.227888e+00    1.146520  9.209772e-01   \n",
       "min     -5.924027   -3.423483 -4.489536e+00   -2.888275 -3.092030e+00   \n",
       "25%     -2.247991   -0.767917 -8.127637e-01   -0.778933 -6.250587e-01   \n",
       "50%     -0.179334   -0.083923  8.521759e-02   -0.130934 -3.642700e-02   \n",
       "75%      2.028249    0.671135  8.434432e-01    0.634597  6.103601e-01   \n",
       "max      9.400922    5.528552  4.758934e+00    5.382077  3.156904e+00   \n",
       "\n",
       "                 5           6             7             8             9   \\\n",
       "count  8.630000e+02  863.000000  8.630000e+02  8.630000e+02  8.630000e+02   \n",
       "mean   9.514642e-07   -0.000001  4.271091e-07 -4.798761e-07  6.812749e-07   \n",
       "std    8.445960e-01    0.762596  6.650893e-01  6.480258e-01  5.509889e-01   \n",
       "min   -3.133662e+00   -2.651993 -2.150130e+00 -1.800069e+00 -1.475133e+00   \n",
       "25%   -5.001075e-01   -0.469976 -4.550333e-01 -4.141287e-01 -3.813930e-01   \n",
       "50%    1.840365e-02   -0.042228 -5.638916e-02 -3.283519e-03 -3.306805e-02   \n",
       "75%    5.436060e-01    0.455045  3.840629e-01  3.983438e-01  3.010271e-01   \n",
       "max    3.347639e+00    3.713262  2.702805e+00  3.812306e+00  2.124125e+00   \n",
       "\n",
       "       ...            90            91          92            93  \\\n",
       "count  ...  8.630000e+02  8.630000e+02  863.000000  8.630000e+02   \n",
       "mean   ...  7.062770e-07  1.801262e-07    0.000001 -3.049990e-07   \n",
       "std    ...  8.149730e-02  7.994579e-02    0.079575  7.852906e-02   \n",
       "min    ... -2.921217e-01 -3.379734e-01   -0.379355 -2.624988e-01   \n",
       "25%    ... -4.899773e-02 -4.895527e-02   -0.045104 -4.879159e-02   \n",
       "50%    ...  1.767911e-04  2.570747e-03   -0.002666 -9.439141e-05   \n",
       "75%    ...  5.012901e-02  4.551029e-02    0.047702  5.039289e-02   \n",
       "max    ...  4.033509e-01  5.086499e-01    0.394754  2.900116e-01   \n",
       "\n",
       "                 94            95            96            97            98  \\\n",
       "count  8.630000e+02  8.630000e+02  8.630000e+02  8.630000e+02  8.630000e+02   \n",
       "mean   6.539244e-07 -2.997499e-07  4.307351e-07  1.534664e-07 -1.887250e-07   \n",
       "std    7.796175e-02  7.783684e-02  7.537352e-02  7.462294e-02  7.410250e-02   \n",
       "min   -2.637689e-01 -3.544321e-01 -2.349452e-01 -2.154722e-01 -2.640032e-01   \n",
       "25%   -5.480057e-02 -4.909454e-02 -4.719900e-02 -5.022101e-02 -4.712421e-02   \n",
       "50%    1.129597e-03  2.173834e-03 -2.011247e-04 -6.277151e-04  1.706622e-03   \n",
       "75%    5.200769e-02  4.660066e-02  4.672504e-02  4.919171e-02  4.632358e-02   \n",
       "max    2.848226e-01  4.684196e-01  2.550550e-01  3.347202e-01  2.812885e-01   \n",
       "\n",
       "                 99  \n",
       "count  8.630000e+02  \n",
       "mean  -3.051716e-07  \n",
       "std    7.296871e-02  \n",
       "min   -2.601485e-01  \n",
       "25%   -4.246395e-02  \n",
       "50%   -1.331348e-03  \n",
       "75%    4.502040e-02  \n",
       "max    2.715169e-01  \n",
       "\n",
       "[8 rows x 100 columns]"
      ]
     },
     "execution_count": 49,
     "metadata": {},
     "output_type": "execute_result"
    }
   ],
   "source": [
    "pd.DataFrame(x_full).describe()"
   ]
  },
  {
   "cell_type": "code",
   "execution_count": 50,
   "id": "c7739888-7082-4454-8a92-8dff0b4bfd84",
   "metadata": {},
   "outputs": [],
   "source": [
    "#Try Random forest and other classifiers\n",
    "rf_split = RandomForestClassifier(random_state=1337,criterion=\"entropy\",max_depth=10, min_samples_split=15,n_estimators=1000) \n",
    "#rf_split.fit(x_full,y_full)\n",
    "#Support Vector Classifier, C should actually be seperately tuned \n",
    "svm_split = sklearn.svm.SVC(random_state=1337,C=0.5) \n",
    "#Ridge Classifier, alpha should actually be seperately tuned\n",
    "ridge_split = sklearn.linear_model.RidgeClassifier(random_state=1337,normalize=True,alpha=2)\n",
    "#Ada Boost \n",
    "ada_split = sklearn.ensemble.AdaBoostClassifier(n_estimators=1000,random_state=1337)"
   ]
  },
  {
   "cell_type": "code",
   "execution_count": 51,
   "id": "2a1f42fb-ba75-4fa6-86e5-55a1eacbcf83",
   "metadata": {},
   "outputs": [
    {
     "data": {
      "text/plain": [
       "array([0.62068966, 0.62068966, 0.5862069 , 0.6744186 , 0.62790698,\n",
       "       0.74418605, 0.65116279, 0.60465116, 0.65116279, 0.70930233])"
      ]
     },
     "execution_count": 51,
     "metadata": {},
     "output_type": "execute_result"
    }
   ],
   "source": [
    "scores_rf=cross_val_score(rf_split, x_full, y_full, cv=10,n_jobs=-1,scoring=make_scorer(accuracy_score))\n",
    "scores_rf"
   ]
  },
  {
   "cell_type": "code",
   "execution_count": 52,
   "id": "af8dea7b-bd62-4ca6-971a-8ebcb25e09c2",
   "metadata": {},
   "outputs": [
    {
     "data": {
      "text/plain": [
       "array([0.67816092, 0.55172414, 0.5862069 , 0.6744186 , 0.65116279,\n",
       "       0.68604651, 0.55813953, 0.69767442, 0.65116279, 0.69767442])"
      ]
     },
     "execution_count": 52,
     "metadata": {},
     "output_type": "execute_result"
    }
   ],
   "source": [
    "scores_svm=cross_val_score(svm_split, x_full, y_full, cv=10,n_jobs=-1,scoring=make_scorer(accuracy_score))\n",
    "scores_svm"
   ]
  },
  {
   "cell_type": "code",
   "execution_count": 53,
   "id": "19abaeb0-aa57-49e6-83f8-252258e199ce",
   "metadata": {},
   "outputs": [
    {
     "data": {
      "text/plain": [
       "array([0.6091954 , 0.62068966, 0.64367816, 0.68604651, 0.6627907 ,\n",
       "       0.72093023, 0.6744186 , 0.62790698, 0.68604651, 0.6627907 ])"
      ]
     },
     "execution_count": 53,
     "metadata": {},
     "output_type": "execute_result"
    }
   ],
   "source": [
    "scores_ridge=cross_val_score(ridge_split, x_full, y_full, cv=10,n_jobs=-1,scoring=make_scorer(accuracy_score))\n",
    "scores_ridge"
   ]
  },
  {
   "cell_type": "code",
   "execution_count": 54,
   "id": "4f252f32-9150-4827-8d7a-eefcc97977f3",
   "metadata": {},
   "outputs": [
    {
     "data": {
      "text/plain": [
       "array([0.52873563, 0.57471264, 0.55172414, 0.58139535, 0.52325581,\n",
       "       0.6744186 , 0.60465116, 0.60465116, 0.61627907, 0.58139535])"
      ]
     },
     "execution_count": 54,
     "metadata": {},
     "output_type": "execute_result"
    }
   ],
   "source": [
    "scores_ada=cross_val_score(ada_split, x_full, y_full, cv=10,n_jobs=-1,scoring=make_scorer(accuracy_score))\n",
    "scores_ada"
   ]
  },
  {
   "cell_type": "code",
   "execution_count": 55,
   "id": "fdbfea52-7eaf-4d67-a0f1-ae482eb389c2",
   "metadata": {},
   "outputs": [
    {
     "name": "stdout",
     "output_type": "stream",
     "text": [
      "Mean 10-fold CV Accuracy: \n",
      "Random Forest:  0.6490376904570971\n",
      "Support Vector Machine:  0.6432371023790431\n",
      "Ridge Classifier:  0.6594493450948945\n",
      "Ada Boost:  0.584121892542101\n"
     ]
    }
   ],
   "source": [
    "print(\"Mean 10-fold CV Accuracy: \")\n",
    "print(\"Random Forest: \",np.mean(scores_rf))\n",
    "print(\"Support Vector Machine: \", np.mean(scores_svm))\n",
    "print(\"Ridge Classifier: \",np.mean(scores_ridge))\n",
    "print(\"Ada Boost: \", np.mean(scores_ada))"
   ]
  },
  {
   "cell_type": "code",
   "execution_count": null,
   "id": "71f8c2f3-583c-4902-ad31-665e0ebe127b",
   "metadata": {},
   "outputs": [],
   "source": []
  }
 ],
 "metadata": {
  "kernelspec": {
   "display_name": "Python 3",
   "language": "python",
   "name": "python3"
  },
  "language_info": {
   "codemirror_mode": {
    "name": "ipython",
    "version": 3
   },
   "file_extension": ".py",
   "mimetype": "text/x-python",
   "name": "python",
   "nbconvert_exporter": "python",
   "pygments_lexer": "ipython3",
   "version": "3.6.8"
  }
 },
 "nbformat": 4,
 "nbformat_minor": 5
}
