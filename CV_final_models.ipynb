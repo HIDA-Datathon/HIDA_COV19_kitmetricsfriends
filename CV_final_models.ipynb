{
 "cells": [
  {
   "cell_type": "code",
   "execution_count": 11,
   "id": "966e798a-f89b-44a3-b349-1277e5b28268",
   "metadata": {},
   "outputs": [],
   "source": [
    "#Load libraries\n",
    "import numpy as np\n",
    "from sklearn.decomposition import PCA\n",
    "from pathlib import Path\n",
    "import pandas as pd\n",
    "from sklearn.preprocessing import KBinsDiscretizer\n",
    "from sklearn.model_selection import train_test_split\n",
    "#Random forest\n",
    "from sklearn.ensemble import RandomForestClassifier\n",
    "from sklearn.feature_selection import SelectFromModel\n",
    "from sklearn.model_selection import cross_val_score\n",
    "from sklearn.metrics import accuracy_score\n",
    "from sklearn.metrics import make_scorer\n",
    "import sklearn.metrics\n",
    "from sklearn.model_selection import GridSearchCV\n",
    "from sklearn import decomposition\n",
    "from sklearn.model_selection import StratifiedKFold"
   ]
  },
  {
   "cell_type": "markdown",
   "id": "c97328f3-b70d-4f8e-88e2-332fd496ef8d",
   "metadata": {},
   "source": [
    "## First Analaysis with CNN features and PCA (28.04)"
   ]
  },
  {
   "cell_type": "code",
   "execution_count": 3,
   "id": "7b9d900e-07ad-491f-b1e7-b13bd4d11282",
   "metadata": {},
   "outputs": [],
   "source": [
    "import pickle\n",
    "with open(r\"training_set.p\", \"rb\") as input_file:\n",
    "    data_full = pickle.load(input_file)"
   ]
  },
  {
   "cell_type": "code",
   "execution_count": 5,
   "id": "5c424139-a85f-4478-b309-9b75cb7b84f8",
   "metadata": {},
   "outputs": [
    {
     "data": {
      "text/html": [
       "<div>\n",
       "<style scoped>\n",
       "    .dataframe tbody tr th:only-of-type {\n",
       "        vertical-align: middle;\n",
       "    }\n",
       "\n",
       "    .dataframe tbody tr th {\n",
       "        vertical-align: top;\n",
       "    }\n",
       "\n",
       "    .dataframe thead th {\n",
       "        text-align: right;\n",
       "    }\n",
       "</style>\n",
       "<table border=\"1\" class=\"dataframe\">\n",
       "  <thead>\n",
       "    <tr style=\"text-align: right;\">\n",
       "      <th></th>\n",
       "      <th>0</th>\n",
       "    </tr>\n",
       "  </thead>\n",
       "  <tbody>\n",
       "    <tr>\n",
       "      <th>count</th>\n",
       "      <td>863.000000</td>\n",
       "    </tr>\n",
       "    <tr>\n",
       "      <th>mean</th>\n",
       "      <td>0.492468</td>\n",
       "    </tr>\n",
       "    <tr>\n",
       "      <th>std</th>\n",
       "      <td>0.500233</td>\n",
       "    </tr>\n",
       "    <tr>\n",
       "      <th>min</th>\n",
       "      <td>0.000000</td>\n",
       "    </tr>\n",
       "    <tr>\n",
       "      <th>25%</th>\n",
       "      <td>0.000000</td>\n",
       "    </tr>\n",
       "    <tr>\n",
       "      <th>50%</th>\n",
       "      <td>0.000000</td>\n",
       "    </tr>\n",
       "    <tr>\n",
       "      <th>75%</th>\n",
       "      <td>1.000000</td>\n",
       "    </tr>\n",
       "    <tr>\n",
       "      <th>max</th>\n",
       "      <td>1.000000</td>\n",
       "    </tr>\n",
       "  </tbody>\n",
       "</table>\n",
       "</div>"
      ],
      "text/plain": [
       "                0\n",
       "count  863.000000\n",
       "mean     0.492468\n",
       "std      0.500233\n",
       "min      0.000000\n",
       "25%      0.000000\n",
       "50%      0.000000\n",
       "75%      1.000000\n",
       "max      1.000000"
      ]
     },
     "execution_count": 5,
     "metadata": {},
     "output_type": "execute_result"
    }
   ],
   "source": [
    "# Input data here\n",
    "y_full = data_full[1]\n",
    "x_full = data_full[0]\n",
    "#Label and x-data\n",
    "#y_full =  np.random.binomial(1, 0.5, size=600)\n",
    "#x_full = np.random.rand(600,750)\n",
    "pd.DataFrame(y_full).describe()\n",
    "#pd.DataFrame(x_full).describe()"
   ]
  },
  {
   "cell_type": "code",
   "execution_count": 6,
   "id": "89448c07-d5a2-4e02-9eb8-1817ff068096",
   "metadata": {},
   "outputs": [
    {
     "data": {
      "text/plain": [
       "PCA(n_components=100)"
      ]
     },
     "execution_count": 6,
     "metadata": {},
     "output_type": "execute_result"
    }
   ],
   "source": [
    "#Try PCA first\n",
    "pca_all = decomposition.PCA(n_components = 100) #use 150 if you want more variance explained\n",
    "pca_all.fit(x_full)\n"
   ]
  },
  {
   "cell_type": "code",
   "execution_count": 7,
   "id": "049b64ae-46a5-4b9e-98cb-af851988c018",
   "metadata": {},
   "outputs": [],
   "source": [
    "#get new X\n",
    "x_full = pca_all.transform(x_full)"
   ]
  },
  {
   "cell_type": "code",
   "execution_count": 8,
   "id": "576095fb-fbb2-444a-8954-f4434e297cd9",
   "metadata": {},
   "outputs": [
    {
     "data": {
      "text/html": [
       "<div>\n",
       "<style scoped>\n",
       "    .dataframe tbody tr th:only-of-type {\n",
       "        vertical-align: middle;\n",
       "    }\n",
       "\n",
       "    .dataframe tbody tr th {\n",
       "        vertical-align: top;\n",
       "    }\n",
       "\n",
       "    .dataframe thead th {\n",
       "        text-align: right;\n",
       "    }\n",
       "</style>\n",
       "<table border=\"1\" class=\"dataframe\">\n",
       "  <thead>\n",
       "    <tr style=\"text-align: right;\">\n",
       "      <th></th>\n",
       "      <th>0</th>\n",
       "      <th>1</th>\n",
       "      <th>2</th>\n",
       "      <th>3</th>\n",
       "      <th>4</th>\n",
       "      <th>5</th>\n",
       "      <th>6</th>\n",
       "      <th>7</th>\n",
       "      <th>8</th>\n",
       "      <th>9</th>\n",
       "      <th>...</th>\n",
       "      <th>90</th>\n",
       "      <th>91</th>\n",
       "      <th>92</th>\n",
       "      <th>93</th>\n",
       "      <th>94</th>\n",
       "      <th>95</th>\n",
       "      <th>96</th>\n",
       "      <th>97</th>\n",
       "      <th>98</th>\n",
       "      <th>99</th>\n",
       "    </tr>\n",
       "  </thead>\n",
       "  <tbody>\n",
       "    <tr>\n",
       "      <th>count</th>\n",
       "      <td>863.000000</td>\n",
       "      <td>863.000000</td>\n",
       "      <td>8.630000e+02</td>\n",
       "      <td>863.000000</td>\n",
       "      <td>8.630000e+02</td>\n",
       "      <td>8.630000e+02</td>\n",
       "      <td>863.000000</td>\n",
       "      <td>8.630000e+02</td>\n",
       "      <td>8.630000e+02</td>\n",
       "      <td>8.630000e+02</td>\n",
       "      <td>...</td>\n",
       "      <td>8.630000e+02</td>\n",
       "      <td>8.630000e+02</td>\n",
       "      <td>8.630000e+02</td>\n",
       "      <td>8.630000e+02</td>\n",
       "      <td>8.630000e+02</td>\n",
       "      <td>8.630000e+02</td>\n",
       "      <td>8.630000e+02</td>\n",
       "      <td>8.630000e+02</td>\n",
       "      <td>8.630000e+02</td>\n",
       "      <td>8.630000e+02</td>\n",
       "    </tr>\n",
       "    <tr>\n",
       "      <th>mean</th>\n",
       "      <td>0.000004</td>\n",
       "      <td>-0.000005</td>\n",
       "      <td>-5.967371e-08</td>\n",
       "      <td>-0.000003</td>\n",
       "      <td>-4.033501e-07</td>\n",
       "      <td>9.509117e-07</td>\n",
       "      <td>-0.000001</td>\n",
       "      <td>4.337395e-07</td>\n",
       "      <td>-4.602611e-07</td>\n",
       "      <td>6.809986e-07</td>\n",
       "      <td>...</td>\n",
       "      <td>4.748342e-07</td>\n",
       "      <td>3.320731e-07</td>\n",
       "      <td>9.612025e-07</td>\n",
       "      <td>-4.800143e-07</td>\n",
       "      <td>-5.214543e-08</td>\n",
       "      <td>1.187949e-08</td>\n",
       "      <td>7.327987e-08</td>\n",
       "      <td>2.462922e-07</td>\n",
       "      <td>6.967113e-07</td>\n",
       "      <td>-1.439697e-07</td>\n",
       "    </tr>\n",
       "    <tr>\n",
       "      <th>std</th>\n",
       "      <td>2.903462</td>\n",
       "      <td>1.271854</td>\n",
       "      <td>1.227888e+00</td>\n",
       "      <td>1.146521</td>\n",
       "      <td>9.209765e-01</td>\n",
       "      <td>8.445962e-01</td>\n",
       "      <td>0.762597</td>\n",
       "      <td>6.650893e-01</td>\n",
       "      <td>6.480259e-01</td>\n",
       "      <td>5.509889e-01</td>\n",
       "      <td>...</td>\n",
       "      <td>8.133917e-02</td>\n",
       "      <td>7.973859e-02</td>\n",
       "      <td>7.949471e-02</td>\n",
       "      <td>7.835900e-02</td>\n",
       "      <td>7.813580e-02</td>\n",
       "      <td>7.709689e-02</td>\n",
       "      <td>7.572611e-02</td>\n",
       "      <td>7.426398e-02</td>\n",
       "      <td>7.371980e-02</td>\n",
       "      <td>7.308110e-02</td>\n",
       "    </tr>\n",
       "    <tr>\n",
       "      <th>min</th>\n",
       "      <td>-5.924026</td>\n",
       "      <td>-3.423473</td>\n",
       "      <td>-4.489543e+00</td>\n",
       "      <td>-2.888272</td>\n",
       "      <td>-3.092029e+00</td>\n",
       "      <td>-3.133666e+00</td>\n",
       "      <td>-2.651993</td>\n",
       "      <td>-2.150131e+00</td>\n",
       "      <td>-1.800066e+00</td>\n",
       "      <td>-1.475130e+00</td>\n",
       "      <td>...</td>\n",
       "      <td>-2.998728e-01</td>\n",
       "      <td>-2.525188e-01</td>\n",
       "      <td>-3.341567e-01</td>\n",
       "      <td>-2.844992e-01</td>\n",
       "      <td>-2.406101e-01</td>\n",
       "      <td>-3.010074e-01</td>\n",
       "      <td>-2.647325e-01</td>\n",
       "      <td>-2.987284e-01</td>\n",
       "      <td>-2.613409e-01</td>\n",
       "      <td>-3.033389e-01</td>\n",
       "    </tr>\n",
       "    <tr>\n",
       "      <th>25%</th>\n",
       "      <td>-2.247991</td>\n",
       "      <td>-0.767915</td>\n",
       "      <td>-8.127704e-01</td>\n",
       "      <td>-0.778933</td>\n",
       "      <td>-6.250591e-01</td>\n",
       "      <td>-5.001017e-01</td>\n",
       "      <td>-0.469975</td>\n",
       "      <td>-4.550265e-01</td>\n",
       "      <td>-4.141251e-01</td>\n",
       "      <td>-3.813923e-01</td>\n",
       "      <td>...</td>\n",
       "      <td>-5.125899e-02</td>\n",
       "      <td>-5.083697e-02</td>\n",
       "      <td>-4.484938e-02</td>\n",
       "      <td>-4.553493e-02</td>\n",
       "      <td>-4.907078e-02</td>\n",
       "      <td>-4.968786e-02</td>\n",
       "      <td>-4.801110e-02</td>\n",
       "      <td>-4.491391e-02</td>\n",
       "      <td>-4.337645e-02</td>\n",
       "      <td>-4.811698e-02</td>\n",
       "    </tr>\n",
       "    <tr>\n",
       "      <th>50%</th>\n",
       "      <td>-0.179334</td>\n",
       "      <td>-0.083919</td>\n",
       "      <td>8.522185e-02</td>\n",
       "      <td>-0.130937</td>\n",
       "      <td>-3.642917e-02</td>\n",
       "      <td>1.841158e-02</td>\n",
       "      <td>-0.042228</td>\n",
       "      <td>-5.638554e-02</td>\n",
       "      <td>-3.280040e-03</td>\n",
       "      <td>-3.306641e-02</td>\n",
       "      <td>...</td>\n",
       "      <td>1.066649e-03</td>\n",
       "      <td>1.551168e-03</td>\n",
       "      <td>-2.393065e-03</td>\n",
       "      <td>-2.238478e-03</td>\n",
       "      <td>2.818268e-03</td>\n",
       "      <td>-1.974091e-03</td>\n",
       "      <td>-2.960294e-03</td>\n",
       "      <td>5.777217e-04</td>\n",
       "      <td>1.859106e-03</td>\n",
       "      <td>1.152530e-03</td>\n",
       "    </tr>\n",
       "    <tr>\n",
       "      <th>75%</th>\n",
       "      <td>2.028248</td>\n",
       "      <td>0.671143</td>\n",
       "      <td>8.434451e-01</td>\n",
       "      <td>0.634593</td>\n",
       "      <td>6.103609e-01</td>\n",
       "      <td>5.436082e-01</td>\n",
       "      <td>0.455044</td>\n",
       "      <td>3.840627e-01</td>\n",
       "      <td>3.983361e-01</td>\n",
       "      <td>3.010277e-01</td>\n",
       "      <td>...</td>\n",
       "      <td>5.111381e-02</td>\n",
       "      <td>4.985153e-02</td>\n",
       "      <td>4.967995e-02</td>\n",
       "      <td>4.654672e-02</td>\n",
       "      <td>4.797407e-02</td>\n",
       "      <td>4.760538e-02</td>\n",
       "      <td>4.534797e-02</td>\n",
       "      <td>4.254235e-02</td>\n",
       "      <td>4.096385e-02</td>\n",
       "      <td>4.419227e-02</td>\n",
       "    </tr>\n",
       "    <tr>\n",
       "      <th>max</th>\n",
       "      <td>9.400922</td>\n",
       "      <td>5.528559</td>\n",
       "      <td>4.758941e+00</td>\n",
       "      <td>5.382068</td>\n",
       "      <td>3.156897e+00</td>\n",
       "      <td>3.347646e+00</td>\n",
       "      <td>3.713265</td>\n",
       "      <td>2.702808e+00</td>\n",
       "      <td>3.812312e+00</td>\n",
       "      <td>2.124125e+00</td>\n",
       "      <td>...</td>\n",
       "      <td>4.451458e-01</td>\n",
       "      <td>5.022255e-01</td>\n",
       "      <td>3.464682e-01</td>\n",
       "      <td>3.098977e-01</td>\n",
       "      <td>3.045732e-01</td>\n",
       "      <td>3.354615e-01</td>\n",
       "      <td>3.053100e-01</td>\n",
       "      <td>3.092036e-01</td>\n",
       "      <td>3.295572e-01</td>\n",
       "      <td>3.620229e-01</td>\n",
       "    </tr>\n",
       "  </tbody>\n",
       "</table>\n",
       "<p>8 rows × 100 columns</p>\n",
       "</div>"
      ],
      "text/plain": [
       "               0           1             2           3             4   \\\n",
       "count  863.000000  863.000000  8.630000e+02  863.000000  8.630000e+02   \n",
       "mean     0.000004   -0.000005 -5.967371e-08   -0.000003 -4.033501e-07   \n",
       "std      2.903462    1.271854  1.227888e+00    1.146521  9.209765e-01   \n",
       "min     -5.924026   -3.423473 -4.489543e+00   -2.888272 -3.092029e+00   \n",
       "25%     -2.247991   -0.767915 -8.127704e-01   -0.778933 -6.250591e-01   \n",
       "50%     -0.179334   -0.083919  8.522185e-02   -0.130937 -3.642917e-02   \n",
       "75%      2.028248    0.671143  8.434451e-01    0.634593  6.103609e-01   \n",
       "max      9.400922    5.528559  4.758941e+00    5.382068  3.156897e+00   \n",
       "\n",
       "                 5           6             7             8             9   \\\n",
       "count  8.630000e+02  863.000000  8.630000e+02  8.630000e+02  8.630000e+02   \n",
       "mean   9.509117e-07   -0.000001  4.337395e-07 -4.602611e-07  6.809986e-07   \n",
       "std    8.445962e-01    0.762597  6.650893e-01  6.480259e-01  5.509889e-01   \n",
       "min   -3.133666e+00   -2.651993 -2.150131e+00 -1.800066e+00 -1.475130e+00   \n",
       "25%   -5.001017e-01   -0.469975 -4.550265e-01 -4.141251e-01 -3.813923e-01   \n",
       "50%    1.841158e-02   -0.042228 -5.638554e-02 -3.280040e-03 -3.306641e-02   \n",
       "75%    5.436082e-01    0.455044  3.840627e-01  3.983361e-01  3.010277e-01   \n",
       "max    3.347646e+00    3.713265  2.702808e+00  3.812312e+00  2.124125e+00   \n",
       "\n",
       "       ...            90            91            92            93  \\\n",
       "count  ...  8.630000e+02  8.630000e+02  8.630000e+02  8.630000e+02   \n",
       "mean   ...  4.748342e-07  3.320731e-07  9.612025e-07 -4.800143e-07   \n",
       "std    ...  8.133917e-02  7.973859e-02  7.949471e-02  7.835900e-02   \n",
       "min    ... -2.998728e-01 -2.525188e-01 -3.341567e-01 -2.844992e-01   \n",
       "25%    ... -5.125899e-02 -5.083697e-02 -4.484938e-02 -4.553493e-02   \n",
       "50%    ...  1.066649e-03  1.551168e-03 -2.393065e-03 -2.238478e-03   \n",
       "75%    ...  5.111381e-02  4.985153e-02  4.967995e-02  4.654672e-02   \n",
       "max    ...  4.451458e-01  5.022255e-01  3.464682e-01  3.098977e-01   \n",
       "\n",
       "                 94            95            96            97            98  \\\n",
       "count  8.630000e+02  8.630000e+02  8.630000e+02  8.630000e+02  8.630000e+02   \n",
       "mean  -5.214543e-08  1.187949e-08  7.327987e-08  2.462922e-07  6.967113e-07   \n",
       "std    7.813580e-02  7.709689e-02  7.572611e-02  7.426398e-02  7.371980e-02   \n",
       "min   -2.406101e-01 -3.010074e-01 -2.647325e-01 -2.987284e-01 -2.613409e-01   \n",
       "25%   -4.907078e-02 -4.968786e-02 -4.801110e-02 -4.491391e-02 -4.337645e-02   \n",
       "50%    2.818268e-03 -1.974091e-03 -2.960294e-03  5.777217e-04  1.859106e-03   \n",
       "75%    4.797407e-02  4.760538e-02  4.534797e-02  4.254235e-02  4.096385e-02   \n",
       "max    3.045732e-01  3.354615e-01  3.053100e-01  3.092036e-01  3.295572e-01   \n",
       "\n",
       "                 99  \n",
       "count  8.630000e+02  \n",
       "mean  -1.439697e-07  \n",
       "std    7.308110e-02  \n",
       "min   -3.033389e-01  \n",
       "25%   -4.811698e-02  \n",
       "50%    1.152530e-03  \n",
       "75%    4.419227e-02  \n",
       "max    3.620229e-01  \n",
       "\n",
       "[8 rows x 100 columns]"
      ]
     },
     "execution_count": 8,
     "metadata": {},
     "output_type": "execute_result"
    }
   ],
   "source": [
    "pd.DataFrame(x_full).describe()"
   ]
  },
  {
   "cell_type": "code",
   "execution_count": 12,
   "id": "c7739888-7082-4454-8a92-8dff0b4bfd84",
   "metadata": {},
   "outputs": [],
   "source": [
    "#Try Random forest and other classifiers\n",
    "rf_split = RandomForestClassifier(random_state=1337,criterion=\"entropy\",max_depth=10, min_samples_split=15,n_estimators=1000) \n",
    "#rf_split.fit(x_full,y_full)\n",
    "#Support Vector Classifier, C should actually be seperately tuned \n",
    "svm_split = sklearn.svm.SVC(random_state=1337,C=0.5) \n",
    "#Ridge Classifier, alpha should actually be seperately tuned\n",
    "ridge_split = sklearn.linear_model.RidgeClassifier(random_state=1337,normalize=True,alpha=2)\n",
    "#Ada Boost \n",
    "ada_split = sklearn.ensemble.AdaBoostClassifier(n_estimators=1000,random_state=1337)"
   ]
  },
  {
   "cell_type": "code",
   "execution_count": 13,
   "id": "2a1f42fb-ba75-4fa6-86e5-55a1eacbcf83",
   "metadata": {},
   "outputs": [
    {
     "data": {
      "text/plain": [
       "array([0.64367816, 0.77011494, 0.66666667, 0.51162791, 0.62790698,\n",
       "       0.6744186 , 0.62790698, 0.77906977, 0.63953488, 0.58139535])"
      ]
     },
     "execution_count": 13,
     "metadata": {},
     "output_type": "execute_result"
    }
   ],
   "source": [
    "scores_rf=cross_val_score(rf_split, x_full, y_full, n_jobs=-1,scoring=make_scorer(accuracy_score),  cv = StratifiedKFold(n_splits = 10, shuffle=True, random_state=1579))\n",
    "scores_rf"
   ]
  },
  {
   "cell_type": "code",
   "execution_count": 14,
   "id": "af8dea7b-bd62-4ca6-971a-8ebcb25e09c2",
   "metadata": {},
   "outputs": [
    {
     "data": {
      "text/plain": [
       "array([0.63218391, 0.73563218, 0.63218391, 0.56976744, 0.62790698,\n",
       "       0.60465116, 0.60465116, 0.80232558, 0.58139535, 0.58139535])"
      ]
     },
     "execution_count": 14,
     "metadata": {},
     "output_type": "execute_result"
    }
   ],
   "source": [
    "scores_svm=cross_val_score(svm_split, x_full, y_full, cv= StratifiedKFold(n_splits = 10, shuffle=True, random_state=1579),n_jobs=-1,scoring=make_scorer(accuracy_score))\n",
    "scores_svm"
   ]
  },
  {
   "cell_type": "code",
   "execution_count": 15,
   "id": "19abaeb0-aa57-49e6-83f8-252258e199ce",
   "metadata": {},
   "outputs": [
    {
     "data": {
      "text/plain": [
       "array([0.65517241, 0.77011494, 0.71264368, 0.55813953, 0.65116279,\n",
       "       0.69767442, 0.62790698, 0.73255814, 0.65116279, 0.60465116])"
      ]
     },
     "execution_count": 15,
     "metadata": {},
     "output_type": "execute_result"
    }
   ],
   "source": [
    "scores_ridge=cross_val_score(ridge_split, x_full, y_full, cv=StratifiedKFold(n_splits = 10, shuffle=True, random_state=1579),n_jobs=-1,scoring=make_scorer(accuracy_score))\n",
    "scores_ridge"
   ]
  },
  {
   "cell_type": "code",
   "execution_count": 27,
   "id": "8730482c-df08-4a5c-aa96-58d96e1ea68d",
   "metadata": {},
   "outputs": [
    {
     "name": "stdout",
     "output_type": "stream",
     "text": [
      "Defaulting to user installation because normal site-packages is not writeable\n",
      "Collecting xgboost\n",
      "  Downloading xgboost-1.4.1-py3-none-manylinux2010_x86_64.whl (166.7 MB)\n",
      "\u001b[K     |████████████████████████████████| 166.7 MB 782 kB/s eta 0:00:01\n",
      "\u001b[?25hRequirement already satisfied: numpy in /hkfs/home/software/all/jupyter/tensorflow/lib/python3.6/site-packages (from xgboost) (1.19.5)\n",
      "Requirement already satisfied: scipy in /hkfs/home/software/all/jupyter/tensorflow/lib/python3.6/site-packages (from xgboost) (1.5.4)\n",
      "Installing collected packages: xgboost\n",
      "\u001b[33m  WARNING: Value for scheme.platlib does not match. Please report this to <https://github.com/pypa/pip/issues/9617>\n",
      "  distutils: /home/haicore-project-covchl/yu4305/.local/lib/python3.6/site-packages\n",
      "  sysconfig: /home/haicore-project-covchl/yu4305/.local/lib64/python3.6/site-packages\u001b[0m\n",
      "\u001b[33m  WARNING: Additional context:\n",
      "  user = True\n",
      "  home = None\n",
      "  root = None\n",
      "  prefix = None\u001b[0m\n",
      "\u001b[33mWARNING: Value for scheme.platlib does not match. Please report this to <https://github.com/pypa/pip/issues/9617>\n",
      "distutils: /home/haicore-project-covchl/yu4305/.local/lib/python3.6/site-packages\n",
      "sysconfig: /home/haicore-project-covchl/yu4305/.local/lib64/python3.6/site-packages\u001b[0m\n",
      "\u001b[33mWARNING: Additional context:\n",
      "user = True\n",
      "home = None\n",
      "root = None\n",
      "prefix = None\u001b[0m\n",
      "Successfully installed xgboost-1.4.1\n"
     ]
    }
   ],
   "source": [
    "!pip install xgboost"
   ]
  },
  {
   "cell_type": "code",
   "execution_count": 16,
   "id": "4f252f32-9150-4827-8d7a-eefcc97977f3",
   "metadata": {},
   "outputs": [
    {
     "data": {
      "text/plain": [
       "array([0.5862069 , 0.57471264, 0.57471264, 0.44186047, 0.62790698,\n",
       "       0.59302326, 0.60465116, 0.6627907 , 0.53488372, 0.60465116])"
      ]
     },
     "execution_count": 16,
     "metadata": {},
     "output_type": "execute_result"
    }
   ],
   "source": [
    "scores_ada=cross_val_score(ada_split, x_full, y_full, cv=StratifiedKFold(n_splits = 10, shuffle=True, random_state=1579),n_jobs=-1,scoring=make_scorer(accuracy_score))\n",
    "scores_ada"
   ]
  },
  {
   "cell_type": "code",
   "execution_count": 30,
   "id": "f9bcf7fd-b650-4e25-9235-c6acd62d2255",
   "metadata": {},
   "outputs": [],
   "source": [
    "#Now use XGBoost\n",
    "import sklearn\n",
    "import xgboost as xgb\n",
    "xgb_split = xgb.XGBClassifier(learning_rate=0.1, n_estimators=100, max_depth=10, min_child_weight=2, objective=\"binary:logistic\", subsample=0.9, colsample_bytree=0.8, seed=1337)\n"
   ]
  },
  {
   "cell_type": "code",
   "execution_count": 31,
   "id": "b00934d0-6ff3-49eb-820e-9a352b839585",
   "metadata": {},
   "outputs": [
    {
     "data": {
      "text/plain": [
       "array([0.65517241, 0.72413793, 0.67816092, 0.45348837, 0.58139535,\n",
       "       0.69767442, 0.6627907 , 0.68604651, 0.62790698, 0.60465116])"
      ]
     },
     "execution_count": 31,
     "metadata": {},
     "output_type": "execute_result"
    }
   ],
   "source": [
    "scores_xgb=cross_val_score(xgb_split, x_full, y_full, cv=StratifiedKFold(n_splits = 10, shuffle=True, random_state=1579),n_jobs=-1,scoring=make_scorer(accuracy_score))\n",
    "scores_xgb"
   ]
  },
  {
   "cell_type": "code",
   "execution_count": 32,
   "id": "fdbfea52-7eaf-4d67-a0f1-ae482eb389c2",
   "metadata": {},
   "outputs": [
    {
     "name": "stdout",
     "output_type": "stream",
     "text": [
      "Mean 10-fold CV Accuracy: \n",
      "Random Forest:  0.6522320235231223\n",
      "Support Vector Machine:  0.6372093023255815\n",
      "Ridge Classifier:  0.6661186848436248\n",
      "Ada Boost:  0.5805399625768511\n",
      "XGB Boost:  0.6371424752739909\n"
     ]
    }
   ],
   "source": [
    "print(\"Mean 10-fold CV Accuracy: \")\n",
    "print(\"Random Forest: \",np.mean(scores_rf))\n",
    "print(\"Support Vector Machine: \", np.mean(scores_svm))\n",
    "print(\"Ridge Classifier: \",np.mean(scores_ridge))\n",
    "print(\"Ada Boost: \", np.mean(scores_ada))\n",
    "print(\"XGB Boost: \", np.mean(scores_xgb))"
   ]
  },
  {
   "cell_type": "markdown",
   "id": "ff9052c9-a1d1-4a77-9702-0920522df005",
   "metadata": {},
   "source": [
    "## Now look at Imputed Clinical Data and repeat the analysis"
   ]
  },
  {
   "cell_type": "code",
   "execution_count": 65,
   "id": "71f8c2f3-583c-4902-ad31-665e0ebe127b",
   "metadata": {},
   "outputs": [
    {
     "name": "stdout",
     "output_type": "stream",
     "text": [
      "     Unnamed: 0  Hospital        Age  Sex  Temp_C  Cough  \\\n",
      "0             0       2.0  35.913889  0.0   39.30    1.0   \n",
      "1             1       2.0  57.266667  0.0   37.00    0.0   \n",
      "2             2       2.0  79.263889  0.0   37.80    1.0   \n",
      "3             3       2.0  82.000000  0.0   38.00    1.0   \n",
      "4             4       2.0  60.791667  1.0   37.00    1.0   \n",
      "..          ...       ...        ...  ...     ...    ...   \n",
      "858         858       4.0  51.000000  0.0   37.51    0.0   \n",
      "859         859       4.0  57.000000  0.0   37.40    1.0   \n",
      "860         860       4.0  38.000000  0.0   37.14    0.0   \n",
      "861         861       4.0  92.000000  1.0   38.00    0.0   \n",
      "862         862       4.0  80.000000  0.0   38.40    0.0   \n",
      "\n",
      "     DifficultyInBreathing    WBC     CRP  Fibrinogen    LDH  Ddimer  \\\n",
      "0                      0.0   5.76   43.40       651.0  387.0   157.0   \n",
      "1                      0.0  11.48   64.00       700.0  338.0   601.0   \n",
      "2                      0.0   6.21  115.30       698.0  356.0   448.0   \n",
      "3                      0.0   7.28  149.30       513.0  482.0  3425.7   \n",
      "4                      0.0   6.37   20.70       670.5  369.3   210.0   \n",
      "..                     ...    ...     ...         ...    ...     ...   \n",
      "858                    1.0  14.30   22.79       550.0  368.0  5027.0   \n",
      "859                    0.0   5.10    8.93       757.0  451.0   717.1   \n",
      "860                    1.0   7.30    0.23       482.1  189.4  1073.0   \n",
      "861                    1.0  13.50    3.77       533.0  358.0  2154.0   \n",
      "862                    0.0   6.70    0.02       580.7  149.0  3262.0   \n",
      "\n",
      "     Ox_percentage   PaO2   SaO2     pH  CardiovascularDisease  \\\n",
      "0             94.0  79.75  95.08  7.436                    0.0   \n",
      "1             94.0  75.00  96.90  7.420                    0.0   \n",
      "2             94.0  63.00  94.60  7.390                    1.0   \n",
      "3             97.0  68.00  96.30  7.460                    0.0   \n",
      "4             93.0  65.37  97.30  7.457                    0.0   \n",
      "..             ...    ...    ...    ...                    ...   \n",
      "858           91.6  64.20  94.09  7.454                    0.0   \n",
      "859           92.3  72.09  93.76  7.449                    0.0   \n",
      "860           96.9  83.50  96.28  7.420                    0.0   \n",
      "861           90.2  75.70  89.60  7.360                    0.0   \n",
      "862           96.2  80.00  94.45  7.460                    1.0   \n",
      "\n",
      "     RespiratoryFailure  \n",
      "0                   0.0  \n",
      "1                   0.0  \n",
      "2                   0.0  \n",
      "3                   0.0  \n",
      "4                   0.0  \n",
      "..                  ...  \n",
      "858                 0.0  \n",
      "859                 0.0  \n",
      "860                 0.0  \n",
      "861                 0.0  \n",
      "862                 0.0  \n",
      "\n",
      "[863 rows x 18 columns]\n"
     ]
    }
   ],
   "source": [
    "#####################\n",
    "#Look at imputed clinical data\n",
    "#import data\n",
    "\n",
    "clinical_knn = pd.read_csv(\"trainSet_knn.txt\")\n",
    "clinical_imp = pd.read_csv(\"trainSet_imputed.txt\")\n",
    "\n",
    "clinical_knn.describe()\n",
    "x_knn = clinical_knn.drop('Prognosis',1)\n",
    "y_knn = clinical_knn[['Prognosis']]\n",
    "\n",
    "x_imp = clinical_imp.drop('Prognosis',1)\n",
    "y_imp = clinical_imp[['Prognosis']]\n",
    "print(x_knn)\n",
    "#y_knn = clinical_knn[\"Prognosis\"]"
   ]
  },
  {
   "cell_type": "code",
   "execution_count": 57,
   "id": "aae5f6fd-8744-4f65-8484-5b68b71144bc",
   "metadata": {},
   "outputs": [],
   "source": [
    "#Try Random forest and other classifiers\n",
    "def ml_models ():\n",
    "    rf_clinic = RandomForestClassifier(random_state=1337,criterion=\"entropy\",max_depth=10, min_samples_split=15,n_estimators=1000) \n",
    "    #rf_split.fit(x_full,y_full)\n",
    "    #Support Vector Classifier, C should actually be seperately tuned \n",
    "    svm_clinic = sklearn.svm.SVC(random_state=1337,C=0.5) \n",
    "    #Ridge Classifier, alpha should actually be seperately tuned\n",
    "    ridge_clinic = sklearn.linear_model.RidgeClassifier(random_state=1337,normalize=True,alpha=2)\n",
    "    #Ada Boost \n",
    "    ada_clinic = sklearn.ensemble.AdaBoostClassifier(n_estimators=1000,random_state=1337)\n",
    "    #XGB Boost\n",
    "    #xgb_clinic = xgb.XGBClassifier(learning_rate=0.1, n_estimators=1000, max_depth=5, min_child_weight=2, objective=\"binary:logistic\", subsample=0.9, colsample_bytree=0.8, seed=1337)\n",
    "    return rf_clinic , svm_clinic, ridge_clinic, ada_clinic#, xgb_clinic"
   ]
  },
  {
   "cell_type": "code",
   "execution_count": 58,
   "id": "a91152ad-26de-4d74-b4aa-524fd9f500d3",
   "metadata": {},
   "outputs": [],
   "source": [
    "def ret_cv_scores(model,x_full,y_full):\n",
    "    scores=cross_val_score(model, x_full, y_full, cv=StratifiedKFold(n_splits = 10, shuffle=True, random_state=1579),n_jobs=-1,scoring=make_scorer(accuracy_score))\n",
    "    return scores"
   ]
  },
  {
   "cell_type": "code",
   "execution_count": 61,
   "id": "ecef4d85-1adf-4854-ba70-cf483b059b10",
   "metadata": {},
   "outputs": [],
   "source": [
    "rf_clinic_knn , svm_clinic_knn, ridge_clinic_knn, ada_clinic_knn = ml_models() #,xgb_clinic_knn"
   ]
  },
  {
   "cell_type": "code",
   "execution_count": 62,
   "id": "e61289e9-48c5-445d-9791-70e1ca313c73",
   "metadata": {},
   "outputs": [
    {
     "name": "stdout",
     "output_type": "stream",
     "text": [
      "RandomForestClassifier(criterion='entropy', max_depth=10, min_samples_split=15,\n",
      "                       n_estimators=1000, random_state=1337)\n",
      "0.7579256883186314\n",
      "SVC(C=0.5, random_state=1337)\n",
      "0.634923817161187\n",
      "RidgeClassifier(alpha=2, normalize=True, random_state=1337)\n",
      "0.7416733493718258\n",
      "AdaBoostClassifier(n_estimators=1000, random_state=1337)\n",
      "0.6952686447473939\n"
     ]
    }
   ],
   "source": [
    "for i in [rf_clinic_knn , svm_clinic_knn, ridge_clinic_knn, ada_clinic_knn]:#, xgb_clinic_knn]:\n",
    "    print(i)\n",
    "    score_temp = ret_cv_scores(i,x_full = x_knn, y_full = y_knn)\n",
    "    print(np.mean(score_temp))\n",
    "    "
   ]
  },
  {
   "cell_type": "code",
   "execution_count": 63,
   "id": "3f8db80a-aebd-4024-b785-81e839b9369f",
   "metadata": {},
   "outputs": [],
   "source": [
    "rf_clinic_imp , svm_clinic_imp, ridge_clinic_imp, ada_clinic_imp = ml_models() #, xgb_clinic_imp"
   ]
  },
  {
   "cell_type": "code",
   "execution_count": 66,
   "id": "04797a21-d93c-4e4e-9957-02582404d4ac",
   "metadata": {},
   "outputs": [
    {
     "name": "stdout",
     "output_type": "stream",
     "text": [
      "RandomForestClassifier(criterion='entropy', max_depth=10, min_samples_split=15,\n",
      "                       n_estimators=1000, random_state=1337)\n",
      "0.745175086875167\n",
      "SVC(C=0.5, random_state=1337)\n",
      "0.5376770916867148\n",
      "RidgeClassifier(alpha=2, normalize=True, random_state=1337)\n",
      "0.7080459770114943\n",
      "AdaBoostClassifier(n_estimators=1000, random_state=1337)\n",
      "0.6906041165463781\n"
     ]
    }
   ],
   "source": [
    "for i in [rf_clinic_imp , svm_clinic_imp, ridge_clinic_imp, ada_clinic_imp]:#, xgb_clinic_imp]:\n",
    "    print(i)\n",
    "    score_temp = ret_cv_scores(i,x_full = x_imp, y_full = y_imp)\n",
    "    print(np.mean(score_temp))"
   ]
  },
  {
   "cell_type": "markdown",
   "id": "2511f4fe-19eb-4653-be4e-69d0ebd6d5c3",
   "metadata": {},
   "source": [
    "## Use Data from Autoencoder (not yet implemented)"
   ]
  },
  {
   "cell_type": "code",
   "execution_count": 181,
   "id": "ef81ce40-c4cd-408d-ab5e-e05f72c04ef1",
   "metadata": {},
   "outputs": [],
   "source": [
    "#Try Autoencoded Data\n",
    "\n",
    "clinical_y = pd.read_csv(\"Data Auto Encoder/trainSet.txt\")\n",
    "clinical_auto = pd.read_csv(\"Data Auto Encoder/simon_TRAIN_impute_classify.csv\")\n",
    "\n",
    "clinical_auto.describe()\n",
    "x_auto = clinical_auto.drop(['PatientID','ImageFile','Hospital','Prognosis'],1)\n",
    "y_auto = clinical_y[['Prognosis']]\n"
   ]
  },
  {
   "cell_type": "code",
   "execution_count": 182,
   "id": "7cc179e7-8abf-4282-923d-4d990a16ee46",
   "metadata": {},
   "outputs": [
    {
     "data": {
      "text/html": [
       "<div>\n",
       "<style scoped>\n",
       "    .dataframe tbody tr th:only-of-type {\n",
       "        vertical-align: middle;\n",
       "    }\n",
       "\n",
       "    .dataframe tbody tr th {\n",
       "        vertical-align: top;\n",
       "    }\n",
       "\n",
       "    .dataframe thead th {\n",
       "        text-align: right;\n",
       "    }\n",
       "</style>\n",
       "<table border=\"1\" class=\"dataframe\">\n",
       "  <thead>\n",
       "    <tr style=\"text-align: right;\">\n",
       "      <th></th>\n",
       "      <th>Age</th>\n",
       "      <th>Sex</th>\n",
       "      <th>Temp_C</th>\n",
       "      <th>Cough</th>\n",
       "      <th>DifficultyInBreathing</th>\n",
       "      <th>WBC</th>\n",
       "      <th>CRP</th>\n",
       "      <th>Fibrinogen</th>\n",
       "      <th>LDH</th>\n",
       "      <th>Ddimer</th>\n",
       "      <th>Ox_percentage</th>\n",
       "      <th>PaO2</th>\n",
       "      <th>SaO2</th>\n",
       "      <th>pH</th>\n",
       "      <th>CardiovascularDisease</th>\n",
       "      <th>RespiratoryFailure</th>\n",
       "    </tr>\n",
       "  </thead>\n",
       "  <tbody>\n",
       "    <tr>\n",
       "      <th>0</th>\n",
       "      <td>35.913889</td>\n",
       "      <td>0.0</td>\n",
       "      <td>39.300000</td>\n",
       "      <td>1.0</td>\n",
       "      <td>0.0</td>\n",
       "      <td>5.76</td>\n",
       "      <td>43.40</td>\n",
       "      <td>651.000000</td>\n",
       "      <td>387.000000</td>\n",
       "      <td>157.000000</td>\n",
       "      <td>94.000000</td>\n",
       "      <td>71.863914</td>\n",
       "      <td>95.122742</td>\n",
       "      <td>7.651553</td>\n",
       "      <td>0.0</td>\n",
       "      <td>0.0</td>\n",
       "    </tr>\n",
       "    <tr>\n",
       "      <th>1</th>\n",
       "      <td>57.266667</td>\n",
       "      <td>0.0</td>\n",
       "      <td>37.000000</td>\n",
       "      <td>0.0</td>\n",
       "      <td>0.0</td>\n",
       "      <td>11.48</td>\n",
       "      <td>64.00</td>\n",
       "      <td>700.000000</td>\n",
       "      <td>338.000000</td>\n",
       "      <td>601.000000</td>\n",
       "      <td>94.000000</td>\n",
       "      <td>75.000000</td>\n",
       "      <td>96.900000</td>\n",
       "      <td>7.420000</td>\n",
       "      <td>0.0</td>\n",
       "      <td>0.0</td>\n",
       "    </tr>\n",
       "    <tr>\n",
       "      <th>2</th>\n",
       "      <td>79.263889</td>\n",
       "      <td>0.0</td>\n",
       "      <td>37.800000</td>\n",
       "      <td>1.0</td>\n",
       "      <td>0.0</td>\n",
       "      <td>6.21</td>\n",
       "      <td>115.30</td>\n",
       "      <td>698.000000</td>\n",
       "      <td>356.000000</td>\n",
       "      <td>448.000000</td>\n",
       "      <td>94.000000</td>\n",
       "      <td>63.000000</td>\n",
       "      <td>94.600000</td>\n",
       "      <td>7.390000</td>\n",
       "      <td>1.0</td>\n",
       "      <td>0.0</td>\n",
       "    </tr>\n",
       "    <tr>\n",
       "      <th>3</th>\n",
       "      <td>82.000000</td>\n",
       "      <td>0.0</td>\n",
       "      <td>38.000000</td>\n",
       "      <td>1.0</td>\n",
       "      <td>0.0</td>\n",
       "      <td>7.28</td>\n",
       "      <td>149.30</td>\n",
       "      <td>513.000000</td>\n",
       "      <td>482.000000</td>\n",
       "      <td>959.028015</td>\n",
       "      <td>97.000000</td>\n",
       "      <td>68.000000</td>\n",
       "      <td>96.300000</td>\n",
       "      <td>7.460000</td>\n",
       "      <td>0.0</td>\n",
       "      <td>0.0</td>\n",
       "    </tr>\n",
       "    <tr>\n",
       "      <th>4</th>\n",
       "      <td>60.791667</td>\n",
       "      <td>1.0</td>\n",
       "      <td>37.000000</td>\n",
       "      <td>1.0</td>\n",
       "      <td>0.0</td>\n",
       "      <td>6.37</td>\n",
       "      <td>20.70</td>\n",
       "      <td>577.426819</td>\n",
       "      <td>260.697968</td>\n",
       "      <td>210.000000</td>\n",
       "      <td>93.000000</td>\n",
       "      <td>74.015709</td>\n",
       "      <td>97.300000</td>\n",
       "      <td>7.639133</td>\n",
       "      <td>0.0</td>\n",
       "      <td>0.0</td>\n",
       "    </tr>\n",
       "    <tr>\n",
       "      <th>...</th>\n",
       "      <td>...</td>\n",
       "      <td>...</td>\n",
       "      <td>...</td>\n",
       "      <td>...</td>\n",
       "      <td>...</td>\n",
       "      <td>...</td>\n",
       "      <td>...</td>\n",
       "      <td>...</td>\n",
       "      <td>...</td>\n",
       "      <td>...</td>\n",
       "      <td>...</td>\n",
       "      <td>...</td>\n",
       "      <td>...</td>\n",
       "      <td>...</td>\n",
       "      <td>...</td>\n",
       "      <td>...</td>\n",
       "    </tr>\n",
       "    <tr>\n",
       "      <th>858</th>\n",
       "      <td>51.000000</td>\n",
       "      <td>0.0</td>\n",
       "      <td>38.222656</td>\n",
       "      <td>0.0</td>\n",
       "      <td>1.0</td>\n",
       "      <td>14.30</td>\n",
       "      <td>22.79</td>\n",
       "      <td>550.000000</td>\n",
       "      <td>368.000000</td>\n",
       "      <td>5027.000000</td>\n",
       "      <td>92.603195</td>\n",
       "      <td>70.067528</td>\n",
       "      <td>92.252815</td>\n",
       "      <td>7.590069</td>\n",
       "      <td>0.0</td>\n",
       "      <td>0.0</td>\n",
       "    </tr>\n",
       "    <tr>\n",
       "      <th>859</th>\n",
       "      <td>57.000000</td>\n",
       "      <td>0.0</td>\n",
       "      <td>38.613785</td>\n",
       "      <td>1.0</td>\n",
       "      <td>0.0</td>\n",
       "      <td>5.10</td>\n",
       "      <td>8.93</td>\n",
       "      <td>757.000000</td>\n",
       "      <td>451.000000</td>\n",
       "      <td>933.251465</td>\n",
       "      <td>95.931114</td>\n",
       "      <td>72.046349</td>\n",
       "      <td>95.225761</td>\n",
       "      <td>7.650484</td>\n",
       "      <td>0.0</td>\n",
       "      <td>0.0</td>\n",
       "    </tr>\n",
       "    <tr>\n",
       "      <th>860</th>\n",
       "      <td>38.000000</td>\n",
       "      <td>0.0</td>\n",
       "      <td>38.240093</td>\n",
       "      <td>0.0</td>\n",
       "      <td>1.0</td>\n",
       "      <td>7.30</td>\n",
       "      <td>0.23</td>\n",
       "      <td>611.945129</td>\n",
       "      <td>386.043854</td>\n",
       "      <td>1073.000000</td>\n",
       "      <td>92.770645</td>\n",
       "      <td>70.120804</td>\n",
       "      <td>92.430649</td>\n",
       "      <td>7.593248</td>\n",
       "      <td>0.0</td>\n",
       "      <td>0.0</td>\n",
       "    </tr>\n",
       "    <tr>\n",
       "      <th>861</th>\n",
       "      <td>92.000000</td>\n",
       "      <td>1.0</td>\n",
       "      <td>38.000000</td>\n",
       "      <td>0.0</td>\n",
       "      <td>1.0</td>\n",
       "      <td>13.50</td>\n",
       "      <td>3.77</td>\n",
       "      <td>533.000000</td>\n",
       "      <td>358.000000</td>\n",
       "      <td>2154.000000</td>\n",
       "      <td>93.311035</td>\n",
       "      <td>75.700000</td>\n",
       "      <td>93.616997</td>\n",
       "      <td>7.360000</td>\n",
       "      <td>0.0</td>\n",
       "      <td>0.0</td>\n",
       "    </tr>\n",
       "    <tr>\n",
       "      <th>862</th>\n",
       "      <td>80.000000</td>\n",
       "      <td>0.0</td>\n",
       "      <td>38.400000</td>\n",
       "      <td>0.0</td>\n",
       "      <td>0.0</td>\n",
       "      <td>6.70</td>\n",
       "      <td>0.02</td>\n",
       "      <td>590.338623</td>\n",
       "      <td>149.000000</td>\n",
       "      <td>1939.474121</td>\n",
       "      <td>93.310509</td>\n",
       "      <td>80.000000</td>\n",
       "      <td>92.872108</td>\n",
       "      <td>7.460000</td>\n",
       "      <td>1.0</td>\n",
       "      <td>0.0</td>\n",
       "    </tr>\n",
       "  </tbody>\n",
       "</table>\n",
       "<p>863 rows × 16 columns</p>\n",
       "</div>"
      ],
      "text/plain": [
       "           Age  Sex     Temp_C  Cough  DifficultyInBreathing    WBC     CRP  \\\n",
       "0    35.913889  0.0  39.300000    1.0                    0.0   5.76   43.40   \n",
       "1    57.266667  0.0  37.000000    0.0                    0.0  11.48   64.00   \n",
       "2    79.263889  0.0  37.800000    1.0                    0.0   6.21  115.30   \n",
       "3    82.000000  0.0  38.000000    1.0                    0.0   7.28  149.30   \n",
       "4    60.791667  1.0  37.000000    1.0                    0.0   6.37   20.70   \n",
       "..         ...  ...        ...    ...                    ...    ...     ...   \n",
       "858  51.000000  0.0  38.222656    0.0                    1.0  14.30   22.79   \n",
       "859  57.000000  0.0  38.613785    1.0                    0.0   5.10    8.93   \n",
       "860  38.000000  0.0  38.240093    0.0                    1.0   7.30    0.23   \n",
       "861  92.000000  1.0  38.000000    0.0                    1.0  13.50    3.77   \n",
       "862  80.000000  0.0  38.400000    0.0                    0.0   6.70    0.02   \n",
       "\n",
       "     Fibrinogen         LDH       Ddimer  Ox_percentage       PaO2       SaO2  \\\n",
       "0    651.000000  387.000000   157.000000      94.000000  71.863914  95.122742   \n",
       "1    700.000000  338.000000   601.000000      94.000000  75.000000  96.900000   \n",
       "2    698.000000  356.000000   448.000000      94.000000  63.000000  94.600000   \n",
       "3    513.000000  482.000000   959.028015      97.000000  68.000000  96.300000   \n",
       "4    577.426819  260.697968   210.000000      93.000000  74.015709  97.300000   \n",
       "..          ...         ...          ...            ...        ...        ...   \n",
       "858  550.000000  368.000000  5027.000000      92.603195  70.067528  92.252815   \n",
       "859  757.000000  451.000000   933.251465      95.931114  72.046349  95.225761   \n",
       "860  611.945129  386.043854  1073.000000      92.770645  70.120804  92.430649   \n",
       "861  533.000000  358.000000  2154.000000      93.311035  75.700000  93.616997   \n",
       "862  590.338623  149.000000  1939.474121      93.310509  80.000000  92.872108   \n",
       "\n",
       "           pH  CardiovascularDisease  RespiratoryFailure  \n",
       "0    7.651553                    0.0                 0.0  \n",
       "1    7.420000                    0.0                 0.0  \n",
       "2    7.390000                    1.0                 0.0  \n",
       "3    7.460000                    0.0                 0.0  \n",
       "4    7.639133                    0.0                 0.0  \n",
       "..        ...                    ...                 ...  \n",
       "858  7.590069                    0.0                 0.0  \n",
       "859  7.650484                    0.0                 0.0  \n",
       "860  7.593248                    0.0                 0.0  \n",
       "861  7.360000                    0.0                 0.0  \n",
       "862  7.460000                    1.0                 0.0  \n",
       "\n",
       "[863 rows x 16 columns]"
      ]
     },
     "execution_count": 182,
     "metadata": {},
     "output_type": "execute_result"
    }
   ],
   "source": [
    "x_auto"
   ]
  },
  {
   "cell_type": "code",
   "execution_count": 183,
   "id": "05ac64e3-1c2a-4e16-a447-843d4e19cc98",
   "metadata": {},
   "outputs": [],
   "source": [
    "rf_auto, svm_auto, ridge_auto, ada_auto = ml_models() #,xgb_clinic_knn"
   ]
  },
  {
   "cell_type": "code",
   "execution_count": 184,
   "id": "f5cf385b-67b3-4284-a245-974502570bab",
   "metadata": {},
   "outputs": [
    {
     "name": "stdout",
     "output_type": "stream",
     "text": [
      "RandomForestClassifier(criterion='entropy', max_depth=10, min_samples_split=15,\n",
      "                       n_estimators=1000, random_state=1337)\n",
      "0.7625233894680565\n",
      "SVC(C=0.5, random_state=1337)\n",
      "0.6594627105052125\n",
      "RidgeClassifier(alpha=2, normalize=True, random_state=1337)\n",
      "0.7312483293237102\n",
      "AdaBoostClassifier(n_estimators=1000, random_state=1337)\n",
      "0.6848703555199145\n"
     ]
    }
   ],
   "source": [
    "for i in [rf_auto, svm_auto, ridge_auto, ada_auto]:\n",
    "    print(i)\n",
    "    score_temp = ret_cv_scores(i,x_full = x_auto, y_full = y_auto)\n",
    "    print(np.mean(score_temp))"
   ]
  },
  {
   "cell_type": "code",
   "execution_count": 151,
   "id": "b39891b3-29c0-4fe7-ba3b-24545822ff86",
   "metadata": {},
   "outputs": [],
   "source": [
    "#read in combined data\n",
    "combined_imp = pd.read_pickle(\"df_full.p\")\n",
    "cnn_imp = pd.read_pickle(\"Xy_imgs.p\")\n",
    "#print(combined_imp.describe())\n",
    "#print(combined_imp.shape)\n",
    "x_combined = combined_imp.drop(['Prognosis','PatientID','ImageFile','Hospital'],1)"
   ]
  },
  {
   "cell_type": "code",
   "execution_count": null,
   "id": "cfa7a48f-137e-4a9e-b03a-ecde75e82142",
   "metadata": {},
   "outputs": [],
   "source": [
    "y_combined = combined_imp[\"Prognosis\"].apply(lambda x: 1 if x == \"SEVERE\" else 0)"
   ]
  },
  {
   "cell_type": "code",
   "execution_count": 153,
   "id": "fd4c225f-71f9-4a79-83bf-1849b54c07c4",
   "metadata": {},
   "outputs": [],
   "source": [
    "cnn_fin = cnn_imp[0]"
   ]
  },
  {
   "cell_type": "code",
   "execution_count": 155,
   "id": "8abc4290-657d-404c-9ca6-3d06aefa346c",
   "metadata": {},
   "outputs": [
    {
     "data": {
      "text/plain": [
       "array([[0.        , 0.        , 0.        , ..., 0.        , 0.05012614,\n",
       "        0.        ],\n",
       "       [0.        , 0.        , 0.        , ..., 0.        , 0.03571007,\n",
       "        0.        ],\n",
       "       [0.        , 0.        , 0.        , ..., 0.00273884, 0.02464284,\n",
       "        0.        ],\n",
       "       ...,\n",
       "       [0.        , 0.        , 0.        , ..., 0.        , 0.13519804,\n",
       "        0.        ],\n",
       "       [0.        , 0.        , 0.        , ..., 0.        , 0.24280955,\n",
       "        0.        ],\n",
       "       [0.        , 0.        , 0.        , ..., 0.        , 0.00892852,\n",
       "        0.        ]], dtype=float32)"
      ]
     },
     "execution_count": 155,
     "metadata": {},
     "output_type": "execute_result"
    }
   ],
   "source": [
    "cnn_fin"
   ]
  },
  {
   "cell_type": "code",
   "execution_count": 156,
   "id": "971998cd-cd5d-4ab5-a076-abeb36635758",
   "metadata": {},
   "outputs": [
    {
     "data": {
      "text/plain": [
       "PCA(n_components=100)"
      ]
     },
     "execution_count": 156,
     "metadata": {},
     "output_type": "execute_result"
    }
   ],
   "source": [
    "pca_cnn = decomposition.PCA(n_components = 100) #use 150 if you want more variance explained\n",
    "pca_cnn.fit(cnn_fin)"
   ]
  },
  {
   "cell_type": "code",
   "execution_count": 165,
   "id": "895c9828-c164-4532-a38f-5fedbb39adee",
   "metadata": {},
   "outputs": [],
   "source": [
    "x_new = pca_all.transform(cnn_fin)\n",
    "y_comb = cnn_imp[1]"
   ]
  },
  {
   "cell_type": "code",
   "execution_count": 172,
   "id": "8160a4c8-1a41-44f2-9c95-58fac9f2b624",
   "metadata": {},
   "outputs": [],
   "source": [
    "x_comb = pd.concat([x_knn,pd.DataFrame(x_new)],axis=1)\n"
   ]
  },
  {
   "cell_type": "code",
   "execution_count": 162,
   "id": "d38f01b6-9b7a-42bd-b988-ab8f0e142096",
   "metadata": {},
   "outputs": [],
   "source": [
    "rf_comb, svm_comb, ridge_comb, ada_comb = ml_models()"
   ]
  },
  {
   "cell_type": "code",
   "execution_count": 174,
   "id": "542568df-130a-4eca-b685-d5c497d0b378",
   "metadata": {
    "tags": []
   },
   "outputs": [
    {
     "name": "stdout",
     "output_type": "stream",
     "text": [
      "RandomForestClassifier(criterion='entropy', max_depth=10, min_samples_split=15,\n",
      "                       n_estimators=1000, random_state=1337)\n",
      "0.6452419139267576\n",
      "SVC(C=0.5, random_state=1337)\n",
      "0.5063753007217322\n",
      "RidgeClassifier(alpha=2, normalize=True, random_state=1337)\n",
      "0.6487703822507351\n",
      "AdaBoostClassifier(n_estimators=1000, random_state=1337)\n",
      "0.5897353648757017\n"
     ]
    }
   ],
   "source": [
    "for i in [rf_comb, svm_comb, ridge_comb, ada_comb]:\n",
    "    print(i)\n",
    "    score_temp = ret_cv_scores(i,x_full = x_comb, y_full = y_comb)\n",
    "    print(np.mean(score_temp))"
   ]
  },
  {
   "cell_type": "markdown",
   "id": "5b65f9ff-1dcb-4696-861d-93495a8f691a",
   "metadata": {},
   "source": [
    "## Use CNN only"
   ]
  },
  {
   "cell_type": "code",
   "execution_count": 175,
   "id": "958d8a72-f05f-4862-a709-c61068e8f482",
   "metadata": {},
   "outputs": [],
   "source": [
    "rf_cnn, svm_cnn, ridge_cnn, ada_cnn = ml_models()"
   ]
  },
  {
   "cell_type": "code",
   "execution_count": 177,
   "id": "7303a1e4-6940-4041-a8fc-e0cf57e80c73",
   "metadata": {},
   "outputs": [
    {
     "name": "stdout",
     "output_type": "stream",
     "text": [
      "RandomForestClassifier(criterion='entropy', max_depth=10, min_samples_split=15,\n",
      "                       n_estimators=1000, random_state=1337)\n",
      "0.642956428762363\n",
      "SVC(C=0.5, random_state=1337)\n",
      "0.625554664528201\n",
      "RidgeClassifier(alpha=2, normalize=True, random_state=1337)\n",
      "0.6464314354450682\n",
      "AdaBoostClassifier(n_estimators=1000, random_state=1337)\n",
      "0.6048115477145148\n"
     ]
    }
   ],
   "source": [
    "for i in [rf_cnn, svm_cnn, ridge_cnn, ada_cnn]:\n",
    "    print(i)\n",
    "    score_temp = ret_cv_scores(i,x_full = pd.DataFrame(x_new), y_full = y_comb)\n",
    "    print(np.mean(score_temp))"
   ]
  },
  {
   "cell_type": "markdown",
   "id": "8ddc15fe-67e7-4326-80f6-cb4d2c5b9fce",
   "metadata": {},
   "source": [
    "## Now Train Ensemble"
   ]
  },
  {
   "cell_type": "code",
   "execution_count": null,
   "id": "7086706e-c7d7-41a3-a62b-352c2af124e3",
   "metadata": {},
   "outputs": [],
   "source": [
    "from sklearn.ensemble import VotingClassifier"
   ]
  },
  {
   "cell_type": "code",
   "execution_count": null,
   "id": "3a514506-6591-44d0-84c2-3240f25b6718",
   "metadata": {},
   "outputs": [],
   "source": [
    " eclf = VotingClassifier(estimators=[rf_knn,ridge_knn,rf_cnn,rf_auto],voting = soft, njobs = -1)\n",
    "\n",
    "for clf in [rf_knn,ridge_knn,rf_cnn,rf_auto,eclf]:\n",
    "    scores_temp = "
   ]
  }
 ],
 "metadata": {
  "kernelspec": {
   "display_name": "Python 3",
   "language": "python",
   "name": "python3"
  },
  "language_info": {
   "codemirror_mode": {
    "name": "ipython",
    "version": 3
   },
   "file_extension": ".py",
   "mimetype": "text/x-python",
   "name": "python",
   "nbconvert_exporter": "python",
   "pygments_lexer": "ipython3",
   "version": "3.6.8"
  }
 },
 "nbformat": 4,
 "nbformat_minor": 5
}
