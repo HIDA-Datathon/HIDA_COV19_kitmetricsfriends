{
 "cells": [
  {
   "cell_type": "code",
   "execution_count": 1,
   "id": "ff885f6b-6ac3-4203-81dc-050d18bc69a2",
   "metadata": {},
   "outputs": [],
   "source": [
    "import pandas as pd\n",
    "import numpy as np\n",
    "\n",
    "from sklearn.experimental import enable_iterative_imputer\n",
    "from sklearn.impute import IterativeImputer, KNNImputer\n",
    "from sklearn import preprocessing"
   ]
  },
  {
   "cell_type": "code",
   "execution_count": 2,
   "id": "95a6c0b7-ed79-4329-8292-215f369056ce",
   "metadata": {},
   "outputs": [],
   "source": [
    "df = pd.read_csv('hida_workspace/HackathonCovidData/trainSet/trainSet.txt')"
   ]
  },
  {
   "cell_type": "code",
   "execution_count": 3,
   "id": "8ce5a731-bbf0-4c79-a469-df0183c858c5",
   "metadata": {},
   "outputs": [
    {
     "data": {
      "text/html": [
       "<div>\n",
       "<style scoped>\n",
       "    .dataframe tbody tr th:only-of-type {\n",
       "        vertical-align: middle;\n",
       "    }\n",
       "\n",
       "    .dataframe tbody tr th {\n",
       "        vertical-align: top;\n",
       "    }\n",
       "\n",
       "    .dataframe thead th {\n",
       "        text-align: right;\n",
       "    }\n",
       "</style>\n",
       "<table border=\"1\" class=\"dataframe\">\n",
       "  <thead>\n",
       "    <tr style=\"text-align: right;\">\n",
       "      <th></th>\n",
       "      <th>PatientID</th>\n",
       "      <th>ImageFile</th>\n",
       "      <th>Hospital</th>\n",
       "      <th>Age</th>\n",
       "      <th>Sex</th>\n",
       "      <th>Temp_C</th>\n",
       "      <th>Cough</th>\n",
       "      <th>DifficultyInBreathing</th>\n",
       "      <th>WBC</th>\n",
       "      <th>CRP</th>\n",
       "      <th>Fibrinogen</th>\n",
       "      <th>LDH</th>\n",
       "      <th>Ddimer</th>\n",
       "      <th>Ox_percentage</th>\n",
       "      <th>PaO2</th>\n",
       "      <th>SaO2</th>\n",
       "      <th>pH</th>\n",
       "      <th>CardiovascularDisease</th>\n",
       "      <th>RespiratoryFailure</th>\n",
       "      <th>Prognosis</th>\n",
       "    </tr>\n",
       "  </thead>\n",
       "  <tbody>\n",
       "    <tr>\n",
       "      <th>0</th>\n",
       "      <td>P_131</td>\n",
       "      <td>P_131.png</td>\n",
       "      <td>D</td>\n",
       "      <td>35.913889</td>\n",
       "      <td>0</td>\n",
       "      <td>39.3</td>\n",
       "      <td>1.0</td>\n",
       "      <td>0.0</td>\n",
       "      <td>5.76</td>\n",
       "      <td>43.4</td>\n",
       "      <td>651.0</td>\n",
       "      <td>387.0</td>\n",
       "      <td>157.0</td>\n",
       "      <td>94.0</td>\n",
       "      <td>NaN</td>\n",
       "      <td>NaN</td>\n",
       "      <td>NaN</td>\n",
       "      <td>0.0</td>\n",
       "      <td>NaN</td>\n",
       "      <td>MILD</td>\n",
       "    </tr>\n",
       "    <tr>\n",
       "      <th>1</th>\n",
       "      <td>P_132</td>\n",
       "      <td>P_132.png</td>\n",
       "      <td>D</td>\n",
       "      <td>57.266667</td>\n",
       "      <td>0</td>\n",
       "      <td>37.0</td>\n",
       "      <td>0.0</td>\n",
       "      <td>0.0</td>\n",
       "      <td>11.48</td>\n",
       "      <td>64.0</td>\n",
       "      <td>700.0</td>\n",
       "      <td>338.0</td>\n",
       "      <td>601.0</td>\n",
       "      <td>94.0</td>\n",
       "      <td>75.0</td>\n",
       "      <td>96.9</td>\n",
       "      <td>7.42</td>\n",
       "      <td>0.0</td>\n",
       "      <td>NaN</td>\n",
       "      <td>MILD</td>\n",
       "    </tr>\n",
       "    <tr>\n",
       "      <th>2</th>\n",
       "      <td>P_195</td>\n",
       "      <td>P_195.png</td>\n",
       "      <td>D</td>\n",
       "      <td>79.263889</td>\n",
       "      <td>0</td>\n",
       "      <td>37.8</td>\n",
       "      <td>1.0</td>\n",
       "      <td>0.0</td>\n",
       "      <td>6.21</td>\n",
       "      <td>115.3</td>\n",
       "      <td>698.0</td>\n",
       "      <td>356.0</td>\n",
       "      <td>448.0</td>\n",
       "      <td>94.0</td>\n",
       "      <td>63.0</td>\n",
       "      <td>94.6</td>\n",
       "      <td>7.39</td>\n",
       "      <td>1.0</td>\n",
       "      <td>NaN</td>\n",
       "      <td>SEVERE</td>\n",
       "    </tr>\n",
       "    <tr>\n",
       "      <th>3</th>\n",
       "      <td>P_193</td>\n",
       "      <td>P_193.png</td>\n",
       "      <td>D</td>\n",
       "      <td>82.000000</td>\n",
       "      <td>0</td>\n",
       "      <td>38.0</td>\n",
       "      <td>1.0</td>\n",
       "      <td>0.0</td>\n",
       "      <td>7.28</td>\n",
       "      <td>149.3</td>\n",
       "      <td>513.0</td>\n",
       "      <td>482.0</td>\n",
       "      <td>NaN</td>\n",
       "      <td>97.0</td>\n",
       "      <td>68.0</td>\n",
       "      <td>96.3</td>\n",
       "      <td>7.46</td>\n",
       "      <td>0.0</td>\n",
       "      <td>NaN</td>\n",
       "      <td>SEVERE</td>\n",
       "    </tr>\n",
       "    <tr>\n",
       "      <th>4</th>\n",
       "      <td>P_140</td>\n",
       "      <td>P_140.png</td>\n",
       "      <td>D</td>\n",
       "      <td>60.791667</td>\n",
       "      <td>1</td>\n",
       "      <td>37.0</td>\n",
       "      <td>1.0</td>\n",
       "      <td>0.0</td>\n",
       "      <td>6.37</td>\n",
       "      <td>20.7</td>\n",
       "      <td>NaN</td>\n",
       "      <td>NaN</td>\n",
       "      <td>210.0</td>\n",
       "      <td>93.0</td>\n",
       "      <td>NaN</td>\n",
       "      <td>97.3</td>\n",
       "      <td>NaN</td>\n",
       "      <td>0.0</td>\n",
       "      <td>NaN</td>\n",
       "      <td>MILD</td>\n",
       "    </tr>\n",
       "  </tbody>\n",
       "</table>\n",
       "</div>"
      ],
      "text/plain": [
       "  PatientID  ImageFile Hospital        Age  Sex  Temp_C  Cough  \\\n",
       "0     P_131  P_131.png        D  35.913889    0    39.3    1.0   \n",
       "1     P_132  P_132.png        D  57.266667    0    37.0    0.0   \n",
       "2     P_195  P_195.png        D  79.263889    0    37.8    1.0   \n",
       "3     P_193  P_193.png        D  82.000000    0    38.0    1.0   \n",
       "4     P_140  P_140.png        D  60.791667    1    37.0    1.0   \n",
       "\n",
       "   DifficultyInBreathing    WBC    CRP  Fibrinogen    LDH  Ddimer  \\\n",
       "0                    0.0   5.76   43.4       651.0  387.0   157.0   \n",
       "1                    0.0  11.48   64.0       700.0  338.0   601.0   \n",
       "2                    0.0   6.21  115.3       698.0  356.0   448.0   \n",
       "3                    0.0   7.28  149.3       513.0  482.0     NaN   \n",
       "4                    0.0   6.37   20.7         NaN    NaN   210.0   \n",
       "\n",
       "   Ox_percentage  PaO2  SaO2    pH  CardiovascularDisease  RespiratoryFailure  \\\n",
       "0           94.0   NaN   NaN   NaN                    0.0                 NaN   \n",
       "1           94.0  75.0  96.9  7.42                    0.0                 NaN   \n",
       "2           94.0  63.0  94.6  7.39                    1.0                 NaN   \n",
       "3           97.0  68.0  96.3  7.46                    0.0                 NaN   \n",
       "4           93.0   NaN  97.3   NaN                    0.0                 NaN   \n",
       "\n",
       "  Prognosis  \n",
       "0      MILD  \n",
       "1      MILD  \n",
       "2    SEVERE  \n",
       "3    SEVERE  \n",
       "4      MILD  "
      ]
     },
     "execution_count": 3,
     "metadata": {},
     "output_type": "execute_result"
    }
   ],
   "source": [
    "df.head()"
   ]
  },
  {
   "cell_type": "code",
   "execution_count": 4,
   "id": "240d1f8e-a8c8-46e7-8df2-9d7ff665fc2f",
   "metadata": {},
   "outputs": [
    {
     "data": {
      "text/plain": [
       "PatientID                0.000000\n",
       "ImageFile                0.000000\n",
       "Hospital                 0.000000\n",
       "Age                      0.001159\n",
       "Sex                      0.000000\n",
       "Temp_C                   0.178447\n",
       "Cough                    0.005794\n",
       "DifficultyInBreathing    0.004635\n",
       "WBC                      0.010429\n",
       "CRP                      0.038239\n",
       "Fibrinogen               0.684820\n",
       "LDH                      0.157590\n",
       "Ddimer                   0.719583\n",
       "Ox_percentage            0.281576\n",
       "PaO2                     0.196987\n",
       "SaO2                     0.675550\n",
       "pH                       0.239861\n",
       "CardiovascularDisease    0.022016\n",
       "RespiratoryFailure       0.184241\n",
       "Prognosis                0.000000\n",
       "dtype: float64"
      ]
     },
     "execution_count": 4,
     "metadata": {},
     "output_type": "execute_result"
    }
   ],
   "source": [
    "df.isnull().mean()"
   ]
  },
  {
   "cell_type": "code",
   "execution_count": 5,
   "id": "8ac9a8b3-fd41-41fe-a5da-49f6eeb376e4",
   "metadata": {},
   "outputs": [],
   "source": [
    "def make_train_test(df, col):\n",
    "    # only keep rows with no missing values in col\n",
    "    test = df.copy()\n",
    "    test.dropna(subset=[col], inplace=True)\n",
    "    train = test.copy()\n",
    "\n",
    "    # remove some values in col (same fraction as in complete dataset)\n",
    "    test_index = test.sample(frac=ratio_missing[col]).index\n",
    "    test = test.loc[test_index]\n",
    "    train.loc[test_index, col] = np.nan\n",
    "    \n",
    "    return train, test"
   ]
  },
  {
   "cell_type": "code",
   "execution_count": 6,
   "id": "6f3f1053-900d-4895-922d-b34f9f2f01c1",
   "metadata": {},
   "outputs": [],
   "source": [
    "# TODO: remove hospital (test only contains one)"
   ]
  },
  {
   "cell_type": "code",
   "execution_count": 7,
   "id": "b242948a-ef1a-443d-9a00-0054ab60b2ea",
   "metadata": {},
   "outputs": [],
   "source": [
    "# example imputation\n",
    "def impute(df):\n",
    "    le = preprocessing.LabelEncoder()\n",
    "    df.Hospital = le.fit_transform(df.Hospital.values)\n",
    "    imputer = IterativeImputer(max_iter=1000)\n",
    "    # imputer = KNNImputer()\n",
    "    df_imputed = pd.DataFrame(imputer.fit_transform(df), columns=df.columns, index=df.index)\n",
    "    df_imputed.Hospital = le.inverse_transform(df_imputed.Hospital.astype(int))\n",
    "    return df_imputed"
   ]
  },
  {
   "cell_type": "code",
   "execution_count": 8,
   "id": "830518db-6344-4356-8035-fed2526d9e47",
   "metadata": {},
   "outputs": [],
   "source": [
    "# added some first additional steps: round binary columns, enforce some upper and lower limits\n",
    "def impute(df):\n",
    "    le = preprocessing.LabelEncoder()\n",
    "    df.Hospital = le.fit_transform(df.Hospital.values)\n",
    "    # imputer = IterativeImputer(max_iter=1000)\n",
    "    imputer = KNNImputer()\n",
    "    df_imputed = pd.DataFrame(imputer.fit_transform(df), columns=df.columns, index=df.index)\n",
    "    df_imputed.Hospital = le.inverse_transform(df_imputed.Hospital.astype(int))\n",
    "    \n",
    "    # round binary cols\n",
    "    binary_cols = ['Sex', 'Cough', 'CardiovascularDisease', 'RespiratoryFailure', 'DifficultyInBreathing']\n",
    "    for c in binary_cols:\n",
    "        df_imputed[c] = df_imputed[c].round()\n",
    "        \n",
    "    df_imputed.SaO2.clip(upper=100)\n",
    "    df_imputed.Ox_percentage.clip(upper=100)\n",
    "    \n",
    "    numeric_cols = df_imputed.select_dtypes(include=np.number).columns.tolist()\n",
    "    for c in numeric_cols:\n",
    "        df_imputed[c] = df_imputed[c].clip(lower=0)\n",
    "\n",
    "    return df_imputed"
   ]
  },
  {
   "cell_type": "code",
   "execution_count": 9,
   "id": "2b4ed313-4df7-46e4-baa9-a873de3711a7",
   "metadata": {},
   "outputs": [],
   "source": [
    "df = df.drop(columns=['PatientID', 'ImageFile', 'Prognosis'])"
   ]
  },
  {
   "cell_type": "code",
   "execution_count": 10,
   "id": "a5afbf9a-03f7-484f-ac96-d64978fa61cb",
   "metadata": {},
   "outputs": [],
   "source": [
    "# dicts that contain the ratio of nans and the standard deviations of each column\n",
    "ratio_missing = dict(df.isnull().mean())\n",
    "sd_dict = dict(df.std())"
   ]
  },
  {
   "cell_type": "code",
   "execution_count": 11,
   "id": "15fd73e5-c4f6-496d-b016-c6f99b423ea5",
   "metadata": {},
   "outputs": [],
   "source": [
    "# def imputation_error(y_true, y_pred, variable):\n",
    "#     return ((((y_true-y_pred)/sd_dict[variable])**2).clip(upper=1)).mean()\n",
    "\n",
    "# y_true = test.Ox_percentage\n",
    "# y_pred = train_imputed.Ox_percentage\n",
    "\n",
    "# imputation_error(test.Ox_percentage, train_imputed.Ox_percentage, 'Ox_percentage')"
   ]
  },
  {
   "cell_type": "code",
   "execution_count": 12,
   "id": "f23b542d-333f-4e70-af90-cc3ca8290f6b",
   "metadata": {},
   "outputs": [],
   "source": [
    "def imputation_error(test, train, variable):\n",
    "    return ((((test[variable]-train[variable])/sd_dict[variable])**2).clip(upper=1)).mean()"
   ]
  },
  {
   "cell_type": "code",
   "execution_count": 13,
   "id": "a821ef71-506a-48b7-9564-6aa38d562a1b",
   "metadata": {},
   "outputs": [],
   "source": [
    "def imputation_error(test, train, variable):\n",
    "    return ((((test[variable]-train.loc[test.index, variable])/sd_dict[variable])**2).clip(upper=1)).mean()"
   ]
  },
  {
   "cell_type": "code",
   "execution_count": 14,
   "id": "25fffc89-404a-4ab0-8313-d2c1982b8f4c",
   "metadata": {},
   "outputs": [],
   "source": [
    "train, test = make_train_test(df, 'Ox_percentage')"
   ]
  },
  {
   "cell_type": "code",
   "execution_count": 15,
   "id": "cd3ebba4-c5ff-42b3-a54a-8a65bd2d0f22",
   "metadata": {},
   "outputs": [
    {
     "data": {
      "text/plain": [
       "0.28225806451612906"
      ]
     },
     "execution_count": 15,
     "metadata": {},
     "output_type": "execute_result"
    }
   ],
   "source": [
    "train.Ox_percentage.isnull().mean()"
   ]
  },
  {
   "cell_type": "code",
   "execution_count": 16,
   "id": "a29cc08d-a4c0-4909-a399-f734d39f2fc0",
   "metadata": {},
   "outputs": [
    {
     "data": {
      "text/plain": [
       "0.0"
      ]
     },
     "execution_count": 16,
     "metadata": {},
     "output_type": "execute_result"
    }
   ],
   "source": [
    "test.Ox_percentage.isnull().mean()"
   ]
  },
  {
   "cell_type": "code",
   "execution_count": 17,
   "id": "d995b640-669f-4198-8e29-01a63f5bd202",
   "metadata": {},
   "outputs": [],
   "source": [
    "train_imputed = impute(train)"
   ]
  },
  {
   "cell_type": "code",
   "execution_count": 18,
   "id": "a93c4dc1-57be-4fa2-ad5c-ddd04b8bcc46",
   "metadata": {},
   "outputs": [
    {
     "data": {
      "text/plain": [
       "0.44870593486893945"
      ]
     },
     "execution_count": 18,
     "metadata": {},
     "output_type": "execute_result"
    }
   ],
   "source": [
    "imputation_error(test, train_imputed, 'Ox_percentage')"
   ]
  },
  {
   "cell_type": "code",
   "execution_count": null,
   "id": "38cbf473-c25f-4dfa-81be-9813325d7c99",
   "metadata": {},
   "outputs": [],
   "source": []
  },
  {
   "cell_type": "code",
   "execution_count": 71,
   "id": "62763884-9f84-4531-b348-26de383364c7",
   "metadata": {},
   "outputs": [],
   "source": [
    "cols = df.columns[df.isnull().any()]\n",
    "\n",
    "scores = dict()\n",
    "for c in cols:\n",
    "    train, test = make_train_test(df, c)\n",
    "    train_imputed = impute(train)\n",
    "    scores[c] = imputation_error(test, train_imputed, c)"
   ]
  },
  {
   "cell_type": "code",
   "execution_count": 72,
   "id": "b9d9524e-f791-435e-a0e9-d53c8bb8c7a4",
   "metadata": {},
   "outputs": [
    {
     "data": {
      "text/plain": [
       "{'Age': 0.578182452050116,\n",
       " 'Temp_C': 0.5190992672007854,\n",
       " 'Cough': 0.6,\n",
       " 'DifficultyInBreathing': 0.25,\n",
       " 'WBC': 0.294393564720578,\n",
       " 'CRP': 0.23808629329940814,\n",
       " 'Fibrinogen': 0.4639112780525155,\n",
       " 'LDH': 0.28747575463725344,\n",
       " 'Ddimer': 0.12106837041573631,\n",
       " 'Ox_percentage': 0.4562889721122612,\n",
       " 'PaO2': 0.29599758046464114,\n",
       " 'SaO2': 0.3067489014436227,\n",
       " 'pH': 0.559120440125901,\n",
       " 'CardiovascularDisease': 0.21052631578947367,\n",
       " 'RespiratoryFailure': 0.007692307692307693}"
      ]
     },
     "execution_count": 72,
     "metadata": {},
     "output_type": "execute_result"
    }
   ],
   "source": [
    "scores"
   ]
  },
  {
   "cell_type": "code",
   "execution_count": 73,
   "id": "a94881ee-6627-4469-95f1-b4ad387f14a6",
   "metadata": {},
   "outputs": [
    {
     "data": {
      "text/plain": [
       "0.34590609986697335"
      ]
     },
     "execution_count": 73,
     "metadata": {},
     "output_type": "execute_result"
    }
   ],
   "source": [
    "np.mean(list((scores.values())))"
   ]
  },
  {
   "cell_type": "code",
   "execution_count": 74,
   "id": "93fc3e76-7287-4978-8b92-1f8eb60875fd",
   "metadata": {},
   "outputs": [],
   "source": [
    "# mean of all column scores\n",
    "def score_all(df):\n",
    "    cols = df.columns[df.isnull().any()]\n",
    "    scores = []\n",
    "    for c in cols:\n",
    "        train, test = make_train_test(df, c)\n",
    "        train_imputed = impute(train)\n",
    "        #train_imputed = train.fillna(0)\n",
    "        scores.append(imputation_error(test, train_imputed, c))\n",
    "    \n",
    "    return np.mean(scores)"
   ]
  },
  {
   "cell_type": "code",
   "execution_count": 75,
   "id": "f99d61e0-4edb-4e07-9bc1-dc98b229c5b2",
   "metadata": {},
   "outputs": [
    {
     "data": {
      "text/plain": [
       "0.37654768636682373"
      ]
     },
     "execution_count": 75,
     "metadata": {},
     "output_type": "execute_result"
    }
   ],
   "source": [
    "score_all(df)"
   ]
  },
  {
   "cell_type": "code",
   "execution_count": null,
   "id": "6a82e72a-60e6-4807-b0fd-cdb93b6a799a",
   "metadata": {},
   "outputs": [],
   "source": []
  },
  {
   "cell_type": "markdown",
   "id": "2b06092b-9acf-4fc6-88cf-df4ff0490d19",
   "metadata": {},
   "source": [
    "### First results"
   ]
  },
  {
   "cell_type": "code",
   "execution_count": 22,
   "id": "0cd8f4b6-d70c-4a2f-b464-b603586cd86b",
   "metadata": {},
   "outputs": [
    {
     "data": {
      "text/plain": [
       "0.705442981767169"
      ]
     },
     "execution_count": 22,
     "metadata": {},
     "output_type": "execute_result"
    }
   ],
   "source": [
    "# Baseline: fill in 0\n",
    "score_all(df)"
   ]
  },
  {
   "cell_type": "code",
   "execution_count": 28,
   "id": "f5fa01f3-421a-46fc-8e34-abd6b3f21706",
   "metadata": {},
   "outputs": [
    {
     "data": {
      "text/plain": [
       "0.367744005479485"
      ]
     },
     "execution_count": 28,
     "metadata": {},
     "output_type": "execute_result"
    }
   ],
   "source": [
    "# iterative imputer\n",
    "score_all(df)"
   ]
  },
  {
   "cell_type": "code",
   "execution_count": 30,
   "id": "ebe1733e-7e49-4350-a777-28b8a733f846",
   "metadata": {},
   "outputs": [
    {
     "name": "stderr",
     "output_type": "stream",
     "text": [
      "/software/all/jupyter/tensorflow/lib/python3.6/site-packages/sklearn/impute/_iterative.py:686: ConvergenceWarning: [IterativeImputer] Early stopping criterion not reached.\n",
      "  \" reached.\", ConvergenceWarning)\n"
     ]
    },
    {
     "data": {
      "text/plain": [
       "0.3641668091870941"
      ]
     },
     "execution_count": 30,
     "metadata": {},
     "output_type": "execute_result"
    }
   ],
   "source": [
    "# iterative imputer + rounding\n",
    "score_all(df)"
   ]
  },
  {
   "cell_type": "code",
   "execution_count": 26,
   "id": "b1c0bb74-d21b-4d21-a113-9a77614e888e",
   "metadata": {},
   "outputs": [
    {
     "data": {
      "text/plain": [
       "0.3458147102691536"
      ]
     },
     "execution_count": 26,
     "metadata": {},
     "output_type": "execute_result"
    }
   ],
   "source": [
    "# iterative imputer + rounding + clip\n",
    "score_all(df)"
   ]
  },
  {
   "cell_type": "code",
   "execution_count": 39,
   "id": "fd21c51f-a740-4f23-97da-9a5650afe1bb",
   "metadata": {
    "tags": []
   },
   "outputs": [
    {
     "data": {
      "text/plain": [
       "0.3840858938580805"
      ]
     },
     "execution_count": 39,
     "metadata": {},
     "output_type": "execute_result"
    }
   ],
   "source": [
    "# KNN\n",
    "score_all(df)"
   ]
  },
  {
   "cell_type": "code",
   "execution_count": 42,
   "id": "2ba82025-6046-4829-8c78-bf048fc7bf17",
   "metadata": {},
   "outputs": [
    {
     "data": {
      "text/plain": [
       "0.36352692488050603"
      ]
     },
     "execution_count": 42,
     "metadata": {},
     "output_type": "execute_result"
    }
   ],
   "source": [
    "# KNN + rounding\n",
    "score_all(df)"
   ]
  },
  {
   "cell_type": "code",
   "execution_count": 45,
   "id": "b2e45166-c31d-40ac-a5d8-911a8a10f218",
   "metadata": {},
   "outputs": [
    {
     "data": {
      "text/plain": [
       "0.32025929459168373"
      ]
     },
     "execution_count": 45,
     "metadata": {},
     "output_type": "execute_result"
    }
   ],
   "source": [
    "# KNN + rounding + clip\n",
    "score_all(df)"
   ]
  },
  {
   "cell_type": "code",
   "execution_count": null,
   "id": "32b672af-2847-43ce-b521-ddc69be05b89",
   "metadata": {},
   "outputs": [],
   "source": []
  },
  {
   "cell_type": "markdown",
   "id": "4f84b78c-2047-474e-8c00-99f667f8246d",
   "metadata": {},
   "source": [
    "TODO: Crossvalidation, tune knn, quantile/rank mapping?, maybe try random mask over full df (not column wise)\n",
    "\n",
    "For the purpose of this challenge, data from 5 of the 6 centers constitute the training set and will be provided as collected (raw, 863 subjects). Data from the last center (120 subjects) is used as testing set to\n",
    "rank the solutions. --> remove hospital"
   ]
  },
  {
   "cell_type": "code",
   "execution_count": null,
   "id": "0b365d78-afe4-4c40-9843-588e0ef92da5",
   "metadata": {},
   "outputs": [],
   "source": []
  },
  {
   "cell_type": "code",
   "execution_count": null,
   "id": "7a64120a-8623-4c63-a660-42d4552c4436",
   "metadata": {},
   "outputs": [],
   "source": []
  },
  {
   "cell_type": "code",
   "execution_count": null,
   "id": "a7c5626e-816a-49b9-b091-84a4d94b2a8c",
   "metadata": {},
   "outputs": [],
   "source": []
  },
  {
   "cell_type": "code",
   "execution_count": null,
   "id": "76afaabf-0f4c-48fc-83ff-5d662a4d9c2c",
   "metadata": {},
   "outputs": [],
   "source": []
  },
  {
   "cell_type": "code",
   "execution_count": null,
   "id": "38591a86-c16f-4bc9-a0e3-5f66bc91804c",
   "metadata": {},
   "outputs": [],
   "source": []
  },
  {
   "cell_type": "code",
   "execution_count": null,
   "id": "0581cf9e-b1db-44f6-a2c0-65fb70ca16bc",
   "metadata": {},
   "outputs": [],
   "source": []
  },
  {
   "cell_type": "markdown",
   "id": "52c97970-e900-46bb-8c6b-1d784c126f36",
   "metadata": {},
   "source": [
    "# Exploration"
   ]
  },
  {
   "cell_type": "code",
   "execution_count": 293,
   "id": "ccefc46b-7bdd-42e1-8f43-43b8a3f3ee98",
   "metadata": {},
   "outputs": [],
   "source": [
    "train, test = make_train_test(df, 'Ox_percentage')"
   ]
  },
  {
   "cell_type": "code",
   "execution_count": 294,
   "id": "3b6ef421-a278-48e7-af20-3d639409cbbe",
   "metadata": {},
   "outputs": [
    {
     "data": {
      "text/plain": [
       "0.28225806451612906"
      ]
     },
     "execution_count": 294,
     "metadata": {},
     "output_type": "execute_result"
    }
   ],
   "source": [
    "train.Ox_percentage.isnull().mean()"
   ]
  },
  {
   "cell_type": "code",
   "execution_count": 295,
   "id": "5f4b0ff6-344c-4b8c-b926-1d85c723e76e",
   "metadata": {},
   "outputs": [
    {
     "data": {
      "text/plain": [
       "0.0"
      ]
     },
     "execution_count": 295,
     "metadata": {},
     "output_type": "execute_result"
    }
   ],
   "source": [
    "test.Ox_percentage.isnull().mean()"
   ]
  },
  {
   "cell_type": "code",
   "execution_count": 296,
   "id": "5ba3a79c-bd3b-4503-b76d-e54e30201c7a",
   "metadata": {},
   "outputs": [],
   "source": [
    "train_imputed = impute(train)"
   ]
  },
  {
   "cell_type": "code",
   "execution_count": 297,
   "id": "34970012-6cc6-4c9d-901e-7b470f85a31b",
   "metadata": {},
   "outputs": [
    {
     "data": {
      "text/plain": [
       "0.08417399139315458"
      ]
     },
     "execution_count": 297,
     "metadata": {},
     "output_type": "execute_result"
    }
   ],
   "source": [
    "imputation_error(test, train_imputed, 'Ox_percentage')"
   ]
  },
  {
   "cell_type": "code",
   "execution_count": 241,
   "id": "b2c3ee80-e8b1-4f0a-b062-bf41a8987246",
   "metadata": {},
   "outputs": [
    {
     "data": {
      "text/html": [
       "<div>\n",
       "<style scoped>\n",
       "    .dataframe tbody tr th:only-of-type {\n",
       "        vertical-align: middle;\n",
       "    }\n",
       "\n",
       "    .dataframe tbody tr th {\n",
       "        vertical-align: top;\n",
       "    }\n",
       "\n",
       "    .dataframe thead th {\n",
       "        text-align: right;\n",
       "    }\n",
       "</style>\n",
       "<table border=\"1\" class=\"dataframe\">\n",
       "  <thead>\n",
       "    <tr style=\"text-align: right;\">\n",
       "      <th></th>\n",
       "      <th>Hospital</th>\n",
       "      <th>Age</th>\n",
       "      <th>Sex</th>\n",
       "      <th>Temp_C</th>\n",
       "      <th>Cough</th>\n",
       "      <th>DifficultyInBreathing</th>\n",
       "      <th>WBC</th>\n",
       "      <th>CRP</th>\n",
       "      <th>Fibrinogen</th>\n",
       "      <th>LDH</th>\n",
       "      <th>Ddimer</th>\n",
       "      <th>Ox_percentage</th>\n",
       "      <th>PaO2</th>\n",
       "      <th>SaO2</th>\n",
       "      <th>pH</th>\n",
       "      <th>CardiovascularDisease</th>\n",
       "      <th>RespiratoryFailure</th>\n",
       "    </tr>\n",
       "  </thead>\n",
       "  <tbody>\n",
       "    <tr>\n",
       "      <th>24</th>\n",
       "      <td>E</td>\n",
       "      <td>56.0</td>\n",
       "      <td>0.0</td>\n",
       "      <td>38.300000</td>\n",
       "      <td>0.0</td>\n",
       "      <td>1.0</td>\n",
       "      <td>7.85</td>\n",
       "      <td>9.00</td>\n",
       "      <td>435.512576</td>\n",
       "      <td>159.000000</td>\n",
       "      <td>-326.351538</td>\n",
       "      <td>93.000000</td>\n",
       "      <td>73.200000</td>\n",
       "      <td>95.066745</td>\n",
       "      <td>7.470000</td>\n",
       "      <td>0.0</td>\n",
       "      <td>0.000000</td>\n",
       "    </tr>\n",
       "    <tr>\n",
       "      <th>25</th>\n",
       "      <td>E</td>\n",
       "      <td>61.0</td>\n",
       "      <td>0.0</td>\n",
       "      <td>38.000000</td>\n",
       "      <td>1.0</td>\n",
       "      <td>1.0</td>\n",
       "      <td>3.57</td>\n",
       "      <td>57.40</td>\n",
       "      <td>563.930864</td>\n",
       "      <td>309.000000</td>\n",
       "      <td>562.468914</td>\n",
       "      <td>92.000000</td>\n",
       "      <td>57.000000</td>\n",
       "      <td>90.617858</td>\n",
       "      <td>7.470000</td>\n",
       "      <td>0.0</td>\n",
       "      <td>0.000000</td>\n",
       "    </tr>\n",
       "    <tr>\n",
       "      <th>26</th>\n",
       "      <td>E</td>\n",
       "      <td>45.0</td>\n",
       "      <td>0.0</td>\n",
       "      <td>38.100000</td>\n",
       "      <td>1.0</td>\n",
       "      <td>0.0</td>\n",
       "      <td>4.36</td>\n",
       "      <td>65.00</td>\n",
       "      <td>745.325082</td>\n",
       "      <td>240.000000</td>\n",
       "      <td>-1380.409273</td>\n",
       "      <td>93.000000</td>\n",
       "      <td>67.366894</td>\n",
       "      <td>88.998086</td>\n",
       "      <td>7.452109</td>\n",
       "      <td>0.0</td>\n",
       "      <td>-0.015138</td>\n",
       "    </tr>\n",
       "    <tr>\n",
       "      <th>27</th>\n",
       "      <td>E</td>\n",
       "      <td>64.0</td>\n",
       "      <td>0.0</td>\n",
       "      <td>36.000000</td>\n",
       "      <td>1.0</td>\n",
       "      <td>0.0</td>\n",
       "      <td>5.26</td>\n",
       "      <td>41.90</td>\n",
       "      <td>824.176033</td>\n",
       "      <td>299.000000</td>\n",
       "      <td>-541.819893</td>\n",
       "      <td>96.000000</td>\n",
       "      <td>72.200000</td>\n",
       "      <td>90.135066</td>\n",
       "      <td>7.510000</td>\n",
       "      <td>1.0</td>\n",
       "      <td>0.022202</td>\n",
       "    </tr>\n",
       "    <tr>\n",
       "      <th>28</th>\n",
       "      <td>E</td>\n",
       "      <td>54.0</td>\n",
       "      <td>0.0</td>\n",
       "      <td>36.600000</td>\n",
       "      <td>1.0</td>\n",
       "      <td>0.0</td>\n",
       "      <td>7.01</td>\n",
       "      <td>67.90</td>\n",
       "      <td>844.121804</td>\n",
       "      <td>458.000000</td>\n",
       "      <td>1260.884463</td>\n",
       "      <td>97.000000</td>\n",
       "      <td>61.000000</td>\n",
       "      <td>90.176614</td>\n",
       "      <td>7.450000</td>\n",
       "      <td>0.0</td>\n",
       "      <td>0.000000</td>\n",
       "    </tr>\n",
       "    <tr>\n",
       "      <th>...</th>\n",
       "      <td>...</td>\n",
       "      <td>...</td>\n",
       "      <td>...</td>\n",
       "      <td>...</td>\n",
       "      <td>...</td>\n",
       "      <td>...</td>\n",
       "      <td>...</td>\n",
       "      <td>...</td>\n",
       "      <td>...</td>\n",
       "      <td>...</td>\n",
       "      <td>...</td>\n",
       "      <td>...</td>\n",
       "      <td>...</td>\n",
       "      <td>...</td>\n",
       "      <td>...</td>\n",
       "      <td>...</td>\n",
       "      <td>...</td>\n",
       "    </tr>\n",
       "    <tr>\n",
       "      <th>858</th>\n",
       "      <td>F</td>\n",
       "      <td>51.0</td>\n",
       "      <td>0.0</td>\n",
       "      <td>37.811985</td>\n",
       "      <td>0.0</td>\n",
       "      <td>1.0</td>\n",
       "      <td>14.30</td>\n",
       "      <td>22.79</td>\n",
       "      <td>550.000000</td>\n",
       "      <td>368.000000</td>\n",
       "      <td>5027.000000</td>\n",
       "      <td>91.581918</td>\n",
       "      <td>85.703203</td>\n",
       "      <td>92.116627</td>\n",
       "      <td>7.439079</td>\n",
       "      <td>0.0</td>\n",
       "      <td>0.000000</td>\n",
       "    </tr>\n",
       "    <tr>\n",
       "      <th>859</th>\n",
       "      <td>F</td>\n",
       "      <td>57.0</td>\n",
       "      <td>0.0</td>\n",
       "      <td>37.578150</td>\n",
       "      <td>1.0</td>\n",
       "      <td>0.0</td>\n",
       "      <td>5.10</td>\n",
       "      <td>8.93</td>\n",
       "      <td>757.000000</td>\n",
       "      <td>451.000000</td>\n",
       "      <td>1698.927286</td>\n",
       "      <td>92.082008</td>\n",
       "      <td>70.100199</td>\n",
       "      <td>90.608888</td>\n",
       "      <td>7.450781</td>\n",
       "      <td>0.0</td>\n",
       "      <td>0.000000</td>\n",
       "    </tr>\n",
       "    <tr>\n",
       "      <th>860</th>\n",
       "      <td>F</td>\n",
       "      <td>38.0</td>\n",
       "      <td>0.0</td>\n",
       "      <td>37.539624</td>\n",
       "      <td>0.0</td>\n",
       "      <td>1.0</td>\n",
       "      <td>7.30</td>\n",
       "      <td>0.23</td>\n",
       "      <td>634.332260</td>\n",
       "      <td>363.704962</td>\n",
       "      <td>1073.000000</td>\n",
       "      <td>92.917239</td>\n",
       "      <td>75.229847</td>\n",
       "      <td>91.314407</td>\n",
       "      <td>7.449435</td>\n",
       "      <td>0.0</td>\n",
       "      <td>0.011135</td>\n",
       "    </tr>\n",
       "    <tr>\n",
       "      <th>861</th>\n",
       "      <td>F</td>\n",
       "      <td>92.0</td>\n",
       "      <td>1.0</td>\n",
       "      <td>38.000000</td>\n",
       "      <td>0.0</td>\n",
       "      <td>1.0</td>\n",
       "      <td>13.50</td>\n",
       "      <td>3.77</td>\n",
       "      <td>533.000000</td>\n",
       "      <td>358.000000</td>\n",
       "      <td>2154.000000</td>\n",
       "      <td>84.593327</td>\n",
       "      <td>75.700000</td>\n",
       "      <td>93.127091</td>\n",
       "      <td>7.360000</td>\n",
       "      <td>0.0</td>\n",
       "      <td>0.000000</td>\n",
       "    </tr>\n",
       "    <tr>\n",
       "      <th>862</th>\n",
       "      <td>F</td>\n",
       "      <td>80.0</td>\n",
       "      <td>0.0</td>\n",
       "      <td>38.400000</td>\n",
       "      <td>0.0</td>\n",
       "      <td>0.0</td>\n",
       "      <td>6.70</td>\n",
       "      <td>0.02</td>\n",
       "      <td>453.876328</td>\n",
       "      <td>149.000000</td>\n",
       "      <td>566.028488</td>\n",
       "      <td>93.366646</td>\n",
       "      <td>80.000000</td>\n",
       "      <td>94.490125</td>\n",
       "      <td>7.460000</td>\n",
       "      <td>1.0</td>\n",
       "      <td>-0.001619</td>\n",
       "    </tr>\n",
       "  </tbody>\n",
       "</table>\n",
       "<p>704 rows × 17 columns</p>\n",
       "</div>"
      ],
      "text/plain": [
       "    Hospital   Age  Sex     Temp_C  Cough  DifficultyInBreathing    WBC  \\\n",
       "24         E  56.0  0.0  38.300000    0.0                    1.0   7.85   \n",
       "25         E  61.0  0.0  38.000000    1.0                    1.0   3.57   \n",
       "26         E  45.0  0.0  38.100000    1.0                    0.0   4.36   \n",
       "27         E  64.0  0.0  36.000000    1.0                    0.0   5.26   \n",
       "28         E  54.0  0.0  36.600000    1.0                    0.0   7.01   \n",
       "..       ...   ...  ...        ...    ...                    ...    ...   \n",
       "858        F  51.0  0.0  37.811985    0.0                    1.0  14.30   \n",
       "859        F  57.0  0.0  37.578150    1.0                    0.0   5.10   \n",
       "860        F  38.0  0.0  37.539624    0.0                    1.0   7.30   \n",
       "861        F  92.0  1.0  38.000000    0.0                    1.0  13.50   \n",
       "862        F  80.0  0.0  38.400000    0.0                    0.0   6.70   \n",
       "\n",
       "       CRP  Fibrinogen         LDH       Ddimer  Ox_percentage       PaO2  \\\n",
       "24    9.00  435.512576  159.000000  -326.351538      93.000000  73.200000   \n",
       "25   57.40  563.930864  309.000000   562.468914      92.000000  57.000000   \n",
       "26   65.00  745.325082  240.000000 -1380.409273      93.000000  67.366894   \n",
       "27   41.90  824.176033  299.000000  -541.819893      96.000000  72.200000   \n",
       "28   67.90  844.121804  458.000000  1260.884463      97.000000  61.000000   \n",
       "..     ...         ...         ...          ...            ...        ...   \n",
       "858  22.79  550.000000  368.000000  5027.000000      91.581918  85.703203   \n",
       "859   8.93  757.000000  451.000000  1698.927286      92.082008  70.100199   \n",
       "860   0.23  634.332260  363.704962  1073.000000      92.917239  75.229847   \n",
       "861   3.77  533.000000  358.000000  2154.000000      84.593327  75.700000   \n",
       "862   0.02  453.876328  149.000000   566.028488      93.366646  80.000000   \n",
       "\n",
       "          SaO2        pH  CardiovascularDisease  RespiratoryFailure  \n",
       "24   95.066745  7.470000                    0.0            0.000000  \n",
       "25   90.617858  7.470000                    0.0            0.000000  \n",
       "26   88.998086  7.452109                    0.0           -0.015138  \n",
       "27   90.135066  7.510000                    1.0            0.022202  \n",
       "28   90.176614  7.450000                    0.0            0.000000  \n",
       "..         ...       ...                    ...                 ...  \n",
       "858  92.116627  7.439079                    0.0            0.000000  \n",
       "859  90.608888  7.450781                    0.0            0.000000  \n",
       "860  91.314407  7.449435                    0.0            0.011135  \n",
       "861  93.127091  7.360000                    0.0            0.000000  \n",
       "862  94.490125  7.460000                    1.0           -0.001619  \n",
       "\n",
       "[704 rows x 17 columns]"
      ]
     },
     "execution_count": 241,
     "metadata": {},
     "output_type": "execute_result"
    }
   ],
   "source": [
    "train_imputed"
   ]
  },
  {
   "cell_type": "code",
   "execution_count": 342,
   "id": "6f639753-cbb7-4fe6-ba05-4072111e4342",
   "metadata": {},
   "outputs": [
    {
     "data": {
      "text/html": [
       "<div>\n",
       "<style scoped>\n",
       "    .dataframe tbody tr th:only-of-type {\n",
       "        vertical-align: middle;\n",
       "    }\n",
       "\n",
       "    .dataframe tbody tr th {\n",
       "        vertical-align: top;\n",
       "    }\n",
       "\n",
       "    .dataframe thead th {\n",
       "        text-align: right;\n",
       "    }\n",
       "</style>\n",
       "<table border=\"1\" class=\"dataframe\">\n",
       "  <thead>\n",
       "    <tr style=\"text-align: right;\">\n",
       "      <th></th>\n",
       "      <th>Hospital</th>\n",
       "      <th>Age</th>\n",
       "      <th>Sex</th>\n",
       "      <th>Temp_C</th>\n",
       "      <th>Cough</th>\n",
       "      <th>DifficultyInBreathing</th>\n",
       "      <th>WBC</th>\n",
       "      <th>CRP</th>\n",
       "      <th>Fibrinogen</th>\n",
       "      <th>LDH</th>\n",
       "      <th>Ddimer</th>\n",
       "      <th>Ox_percentage</th>\n",
       "      <th>PaO2</th>\n",
       "      <th>SaO2</th>\n",
       "      <th>pH</th>\n",
       "      <th>CardiovascularDisease</th>\n",
       "      <th>RespiratoryFailure</th>\n",
       "    </tr>\n",
       "  </thead>\n",
       "  <tbody>\n",
       "    <tr>\n",
       "      <th>count</th>\n",
       "      <td>620.000000</td>\n",
       "      <td>619.000000</td>\n",
       "      <td>620.000000</td>\n",
       "      <td>564.000000</td>\n",
       "      <td>618.000000</td>\n",
       "      <td>619.000000</td>\n",
       "      <td>616.000000</td>\n",
       "      <td>603.000000</td>\n",
       "      <td>182.000000</td>\n",
       "      <td>510.000000</td>\n",
       "      <td>145.000000</td>\n",
       "      <td>445.000000</td>\n",
       "      <td>535.000000</td>\n",
       "      <td>200.000000</td>\n",
       "      <td>514.000000</td>\n",
       "      <td>603.000000</td>\n",
       "      <td>472.000000</td>\n",
       "    </tr>\n",
       "    <tr>\n",
       "      <th>mean</th>\n",
       "      <td>2.245161</td>\n",
       "      <td>64.887938</td>\n",
       "      <td>0.335484</td>\n",
       "      <td>37.525532</td>\n",
       "      <td>0.519417</td>\n",
       "      <td>0.487884</td>\n",
       "      <td>7.071119</td>\n",
       "      <td>41.510763</td>\n",
       "      <td>622.000000</td>\n",
       "      <td>383.982392</td>\n",
       "      <td>2715.158621</td>\n",
       "      <td>92.482022</td>\n",
       "      <td>72.478131</td>\n",
       "      <td>91.349500</td>\n",
       "      <td>7.453438</td>\n",
       "      <td>0.306799</td>\n",
       "      <td>0.010593</td>\n",
       "    </tr>\n",
       "    <tr>\n",
       "      <th>std</th>\n",
       "      <td>0.976902</td>\n",
       "      <td>15.333443</td>\n",
       "      <td>0.472541</td>\n",
       "      <td>0.970481</td>\n",
       "      <td>0.500028</td>\n",
       "      <td>0.500257</td>\n",
       "      <td>3.606074</td>\n",
       "      <td>65.227653</td>\n",
       "      <td>146.974046</td>\n",
       "      <td>263.748516</td>\n",
       "      <td>7747.193283</td>\n",
       "      <td>7.108879</td>\n",
       "      <td>26.560914</td>\n",
       "      <td>9.226246</td>\n",
       "      <td>0.053736</td>\n",
       "      <td>0.461548</td>\n",
       "      <td>0.102485</td>\n",
       "    </tr>\n",
       "    <tr>\n",
       "      <th>min</th>\n",
       "      <td>0.000000</td>\n",
       "      <td>18.000000</td>\n",
       "      <td>0.000000</td>\n",
       "      <td>35.400000</td>\n",
       "      <td>0.000000</td>\n",
       "      <td>0.000000</td>\n",
       "      <td>0.200000</td>\n",
       "      <td>0.010000</td>\n",
       "      <td>102.000000</td>\n",
       "      <td>0.020000</td>\n",
       "      <td>130.000000</td>\n",
       "      <td>56.000000</td>\n",
       "      <td>23.000000</td>\n",
       "      <td>29.000000</td>\n",
       "      <td>7.048000</td>\n",
       "      <td>0.000000</td>\n",
       "      <td>0.000000</td>\n",
       "    </tr>\n",
       "    <tr>\n",
       "      <th>25%</th>\n",
       "      <td>1.000000</td>\n",
       "      <td>54.000000</td>\n",
       "      <td>0.000000</td>\n",
       "      <td>36.800000</td>\n",
       "      <td>0.000000</td>\n",
       "      <td>0.000000</td>\n",
       "      <td>4.700000</td>\n",
       "      <td>6.040000</td>\n",
       "      <td>522.250000</td>\n",
       "      <td>248.000000</td>\n",
       "      <td>334.000000</td>\n",
       "      <td>90.000000</td>\n",
       "      <td>57.950000</td>\n",
       "      <td>88.000000</td>\n",
       "      <td>7.430000</td>\n",
       "      <td>0.000000</td>\n",
       "      <td>0.000000</td>\n",
       "    </tr>\n",
       "    <tr>\n",
       "      <th>50%</th>\n",
       "      <td>3.000000</td>\n",
       "      <td>65.000000</td>\n",
       "      <td>0.000000</td>\n",
       "      <td>37.500000</td>\n",
       "      <td>1.000000</td>\n",
       "      <td>0.000000</td>\n",
       "      <td>6.265000</td>\n",
       "      <td>16.230000</td>\n",
       "      <td>626.000000</td>\n",
       "      <td>320.500000</td>\n",
       "      <td>616.000000</td>\n",
       "      <td>94.900000</td>\n",
       "      <td>69.000000</td>\n",
       "      <td>94.000000</td>\n",
       "      <td>7.460000</td>\n",
       "      <td>0.000000</td>\n",
       "      <td>0.000000</td>\n",
       "    </tr>\n",
       "    <tr>\n",
       "      <th>75%</th>\n",
       "      <td>3.000000</td>\n",
       "      <td>77.131944</td>\n",
       "      <td>1.000000</td>\n",
       "      <td>38.200000</td>\n",
       "      <td>1.000000</td>\n",
       "      <td>1.000000</td>\n",
       "      <td>8.400000</td>\n",
       "      <td>49.350000</td>\n",
       "      <td>700.000000</td>\n",
       "      <td>439.500000</td>\n",
       "      <td>1272.000000</td>\n",
       "      <td>97.000000</td>\n",
       "      <td>80.000000</td>\n",
       "      <td>97.000000</td>\n",
       "      <td>7.480000</td>\n",
       "      <td>1.000000</td>\n",
       "      <td>0.000000</td>\n",
       "    </tr>\n",
       "    <tr>\n",
       "      <th>max</th>\n",
       "      <td>3.000000</td>\n",
       "      <td>97.000000</td>\n",
       "      <td>1.000000</td>\n",
       "      <td>40.000000</td>\n",
       "      <td>1.000000</td>\n",
       "      <td>1.000000</td>\n",
       "      <td>27.460000</td>\n",
       "      <td>570.500000</td>\n",
       "      <td>1171.000000</td>\n",
       "      <td>2903.000000</td>\n",
       "      <td>54125.000000</td>\n",
       "      <td>100.000000</td>\n",
       "      <td>285.000000</td>\n",
       "      <td>100.000000</td>\n",
       "      <td>7.800000</td>\n",
       "      <td>1.000000</td>\n",
       "      <td>1.000000</td>\n",
       "    </tr>\n",
       "  </tbody>\n",
       "</table>\n",
       "</div>"
      ],
      "text/plain": [
       "         Hospital         Age         Sex      Temp_C       Cough  \\\n",
       "count  620.000000  619.000000  620.000000  564.000000  618.000000   \n",
       "mean     2.245161   64.887938    0.335484   37.525532    0.519417   \n",
       "std      0.976902   15.333443    0.472541    0.970481    0.500028   \n",
       "min      0.000000   18.000000    0.000000   35.400000    0.000000   \n",
       "25%      1.000000   54.000000    0.000000   36.800000    0.000000   \n",
       "50%      3.000000   65.000000    0.000000   37.500000    1.000000   \n",
       "75%      3.000000   77.131944    1.000000   38.200000    1.000000   \n",
       "max      3.000000   97.000000    1.000000   40.000000    1.000000   \n",
       "\n",
       "       DifficultyInBreathing         WBC         CRP   Fibrinogen  \\\n",
       "count             619.000000  616.000000  603.000000   182.000000   \n",
       "mean                0.487884    7.071119   41.510763   622.000000   \n",
       "std                 0.500257    3.606074   65.227653   146.974046   \n",
       "min                 0.000000    0.200000    0.010000   102.000000   \n",
       "25%                 0.000000    4.700000    6.040000   522.250000   \n",
       "50%                 0.000000    6.265000   16.230000   626.000000   \n",
       "75%                 1.000000    8.400000   49.350000   700.000000   \n",
       "max                 1.000000   27.460000  570.500000  1171.000000   \n",
       "\n",
       "               LDH        Ddimer  Ox_percentage        PaO2        SaO2  \\\n",
       "count   510.000000    145.000000     445.000000  535.000000  200.000000   \n",
       "mean    383.982392   2715.158621      92.482022   72.478131   91.349500   \n",
       "std     263.748516   7747.193283       7.108879   26.560914    9.226246   \n",
       "min       0.020000    130.000000      56.000000   23.000000   29.000000   \n",
       "25%     248.000000    334.000000      90.000000   57.950000   88.000000   \n",
       "50%     320.500000    616.000000      94.900000   69.000000   94.000000   \n",
       "75%     439.500000   1272.000000      97.000000   80.000000   97.000000   \n",
       "max    2903.000000  54125.000000     100.000000  285.000000  100.000000   \n",
       "\n",
       "               pH  CardiovascularDisease  RespiratoryFailure  \n",
       "count  514.000000             603.000000          472.000000  \n",
       "mean     7.453438               0.306799            0.010593  \n",
       "std      0.053736               0.461548            0.102485  \n",
       "min      7.048000               0.000000            0.000000  \n",
       "25%      7.430000               0.000000            0.000000  \n",
       "50%      7.460000               0.000000            0.000000  \n",
       "75%      7.480000               1.000000            0.000000  \n",
       "max      7.800000               1.000000            1.000000  "
      ]
     },
     "execution_count": 342,
     "metadata": {},
     "output_type": "execute_result"
    }
   ],
   "source": [
    "train.describe()"
   ]
  },
  {
   "cell_type": "code",
   "execution_count": 341,
   "id": "14912a6c-47f6-45b0-8865-deb3482d3ffa",
   "metadata": {},
   "outputs": [
    {
     "data": {
      "text/html": [
       "<div>\n",
       "<style scoped>\n",
       "    .dataframe tbody tr th:only-of-type {\n",
       "        vertical-align: middle;\n",
       "    }\n",
       "\n",
       "    .dataframe tbody tr th {\n",
       "        vertical-align: top;\n",
       "    }\n",
       "\n",
       "    .dataframe thead th {\n",
       "        text-align: right;\n",
       "    }\n",
       "</style>\n",
       "<table border=\"1\" class=\"dataframe\">\n",
       "  <thead>\n",
       "    <tr style=\"text-align: right;\">\n",
       "      <th></th>\n",
       "      <th>Age</th>\n",
       "      <th>Sex</th>\n",
       "      <th>Temp_C</th>\n",
       "      <th>Cough</th>\n",
       "      <th>DifficultyInBreathing</th>\n",
       "      <th>WBC</th>\n",
       "      <th>CRP</th>\n",
       "      <th>Fibrinogen</th>\n",
       "      <th>LDH</th>\n",
       "      <th>Ddimer</th>\n",
       "      <th>Ox_percentage</th>\n",
       "      <th>PaO2</th>\n",
       "      <th>SaO2</th>\n",
       "      <th>pH</th>\n",
       "      <th>CardiovascularDisease</th>\n",
       "      <th>RespiratoryFailure</th>\n",
       "    </tr>\n",
       "  </thead>\n",
       "  <tbody>\n",
       "    <tr>\n",
       "      <th>count</th>\n",
       "      <td>620.000000</td>\n",
       "      <td>620.000000</td>\n",
       "      <td>620.000000</td>\n",
       "      <td>620.000000</td>\n",
       "      <td>620.000000</td>\n",
       "      <td>620.000000</td>\n",
       "      <td>620.000000</td>\n",
       "      <td>620.000000</td>\n",
       "      <td>620.000000</td>\n",
       "      <td>620.000000</td>\n",
       "      <td>620.000000</td>\n",
       "      <td>620.000000</td>\n",
       "      <td>620.000000</td>\n",
       "      <td>620.000000</td>\n",
       "      <td>620.000000</td>\n",
       "      <td>620.000000</td>\n",
       "    </tr>\n",
       "    <tr>\n",
       "      <th>mean</th>\n",
       "      <td>64.902740</td>\n",
       "      <td>0.335484</td>\n",
       "      <td>37.528837</td>\n",
       "      <td>0.517742</td>\n",
       "      <td>0.487097</td>\n",
       "      <td>7.071653</td>\n",
       "      <td>40.950222</td>\n",
       "      <td>601.223462</td>\n",
       "      <td>380.089706</td>\n",
       "      <td>2470.486189</td>\n",
       "      <td>92.336893</td>\n",
       "      <td>72.774971</td>\n",
       "      <td>92.480639</td>\n",
       "      <td>7.453544</td>\n",
       "      <td>0.306452</td>\n",
       "      <td>0.008065</td>\n",
       "    </tr>\n",
       "    <tr>\n",
       "      <th>std</th>\n",
       "      <td>15.325486</td>\n",
       "      <td>0.472541</td>\n",
       "      <td>0.926604</td>\n",
       "      <td>0.500089</td>\n",
       "      <td>0.500237</td>\n",
       "      <td>3.596107</td>\n",
       "      <td>64.713619</td>\n",
       "      <td>109.780306</td>\n",
       "      <td>246.842216</td>\n",
       "      <td>5203.383152</td>\n",
       "      <td>6.736867</td>\n",
       "      <td>25.319602</td>\n",
       "      <td>7.258366</td>\n",
       "      <td>0.049065</td>\n",
       "      <td>0.461392</td>\n",
       "      <td>0.089512</td>\n",
       "    </tr>\n",
       "    <tr>\n",
       "      <th>min</th>\n",
       "      <td>18.000000</td>\n",
       "      <td>0.000000</td>\n",
       "      <td>35.400000</td>\n",
       "      <td>0.000000</td>\n",
       "      <td>0.000000</td>\n",
       "      <td>0.200000</td>\n",
       "      <td>-26.909053</td>\n",
       "      <td>-51.810822</td>\n",
       "      <td>0.020000</td>\n",
       "      <td>-10082.017676</td>\n",
       "      <td>56.000000</td>\n",
       "      <td>23.000000</td>\n",
       "      <td>29.000000</td>\n",
       "      <td>7.048000</td>\n",
       "      <td>0.000000</td>\n",
       "      <td>0.000000</td>\n",
       "    </tr>\n",
       "    <tr>\n",
       "      <th>25%</th>\n",
       "      <td>54.000000</td>\n",
       "      <td>0.000000</td>\n",
       "      <td>37.000000</td>\n",
       "      <td>0.000000</td>\n",
       "      <td>0.000000</td>\n",
       "      <td>4.700000</td>\n",
       "      <td>5.905000</td>\n",
       "      <td>560.923025</td>\n",
       "      <td>252.750000</td>\n",
       "      <td>314.284755</td>\n",
       "      <td>90.000000</td>\n",
       "      <td>59.000000</td>\n",
       "      <td>90.104367</td>\n",
       "      <td>7.440000</td>\n",
       "      <td>0.000000</td>\n",
       "      <td>0.000000</td>\n",
       "    </tr>\n",
       "    <tr>\n",
       "      <th>50%</th>\n",
       "      <td>65.106944</td>\n",
       "      <td>0.000000</td>\n",
       "      <td>37.500000</td>\n",
       "      <td>1.000000</td>\n",
       "      <td>0.000000</td>\n",
       "      <td>6.280000</td>\n",
       "      <td>16.220000</td>\n",
       "      <td>601.085635</td>\n",
       "      <td>324.340625</td>\n",
       "      <td>1182.500000</td>\n",
       "      <td>94.000000</td>\n",
       "      <td>70.800000</td>\n",
       "      <td>93.988855</td>\n",
       "      <td>7.452977</td>\n",
       "      <td>0.000000</td>\n",
       "      <td>0.000000</td>\n",
       "    </tr>\n",
       "    <tr>\n",
       "      <th>75%</th>\n",
       "      <td>77.090972</td>\n",
       "      <td>1.000000</td>\n",
       "      <td>38.100000</td>\n",
       "      <td>1.000000</td>\n",
       "      <td>1.000000</td>\n",
       "      <td>8.400000</td>\n",
       "      <td>49.398732</td>\n",
       "      <td>648.910317</td>\n",
       "      <td>428.786238</td>\n",
       "      <td>3095.774483</td>\n",
       "      <td>96.886230</td>\n",
       "      <td>80.406457</td>\n",
       "      <td>96.400000</td>\n",
       "      <td>7.480000</td>\n",
       "      <td>1.000000</td>\n",
       "      <td>0.000000</td>\n",
       "    </tr>\n",
       "    <tr>\n",
       "      <th>max</th>\n",
       "      <td>97.000000</td>\n",
       "      <td>1.000000</td>\n",
       "      <td>40.000000</td>\n",
       "      <td>1.000000</td>\n",
       "      <td>1.000000</td>\n",
       "      <td>27.460000</td>\n",
       "      <td>570.500000</td>\n",
       "      <td>1171.000000</td>\n",
       "      <td>2903.000000</td>\n",
       "      <td>54125.000000</td>\n",
       "      <td>101.676969</td>\n",
       "      <td>285.000000</td>\n",
       "      <td>117.946765</td>\n",
       "      <td>7.800000</td>\n",
       "      <td>1.000000</td>\n",
       "      <td>1.000000</td>\n",
       "    </tr>\n",
       "  </tbody>\n",
       "</table>\n",
       "</div>"
      ],
      "text/plain": [
       "              Age         Sex      Temp_C       Cough  DifficultyInBreathing  \\\n",
       "count  620.000000  620.000000  620.000000  620.000000             620.000000   \n",
       "mean    64.902740    0.335484   37.528837    0.517742               0.487097   \n",
       "std     15.325486    0.472541    0.926604    0.500089               0.500237   \n",
       "min     18.000000    0.000000   35.400000    0.000000               0.000000   \n",
       "25%     54.000000    0.000000   37.000000    0.000000               0.000000   \n",
       "50%     65.106944    0.000000   37.500000    1.000000               0.000000   \n",
       "75%     77.090972    1.000000   38.100000    1.000000               1.000000   \n",
       "max     97.000000    1.000000   40.000000    1.000000               1.000000   \n",
       "\n",
       "              WBC         CRP   Fibrinogen          LDH        Ddimer  \\\n",
       "count  620.000000  620.000000   620.000000   620.000000    620.000000   \n",
       "mean     7.071653   40.950222   601.223462   380.089706   2470.486189   \n",
       "std      3.596107   64.713619   109.780306   246.842216   5203.383152   \n",
       "min      0.200000  -26.909053   -51.810822     0.020000 -10082.017676   \n",
       "25%      4.700000    5.905000   560.923025   252.750000    314.284755   \n",
       "50%      6.280000   16.220000   601.085635   324.340625   1182.500000   \n",
       "75%      8.400000   49.398732   648.910317   428.786238   3095.774483   \n",
       "max     27.460000  570.500000  1171.000000  2903.000000  54125.000000   \n",
       "\n",
       "       Ox_percentage        PaO2        SaO2          pH  \\\n",
       "count     620.000000  620.000000  620.000000  620.000000   \n",
       "mean       92.336893   72.774971   92.480639    7.453544   \n",
       "std         6.736867   25.319602    7.258366    0.049065   \n",
       "min        56.000000   23.000000   29.000000    7.048000   \n",
       "25%        90.000000   59.000000   90.104367    7.440000   \n",
       "50%        94.000000   70.800000   93.988855    7.452977   \n",
       "75%        96.886230   80.406457   96.400000    7.480000   \n",
       "max       101.676969  285.000000  117.946765    7.800000   \n",
       "\n",
       "       CardiovascularDisease  RespiratoryFailure  \n",
       "count             620.000000          620.000000  \n",
       "mean                0.306452            0.008065  \n",
       "std                 0.461392            0.089512  \n",
       "min                 0.000000            0.000000  \n",
       "25%                 0.000000            0.000000  \n",
       "50%                 0.000000            0.000000  \n",
       "75%                 1.000000            0.000000  \n",
       "max                 1.000000            1.000000  "
      ]
     },
     "execution_count": 341,
     "metadata": {},
     "output_type": "execute_result"
    }
   ],
   "source": [
    "train_imputed.describe()"
   ]
  },
  {
   "cell_type": "code",
   "execution_count": 314,
   "id": "a1f4691a-ef89-4c64-9d9b-17250735d4fa",
   "metadata": {},
   "outputs": [
    {
     "data": {
      "text/plain": [
       "0.0    317\n",
       "1.0    302\n",
       "0.4      1\n",
       "Name: DifficultyInBreathing, dtype: int64"
      ]
     },
     "execution_count": 314,
     "metadata": {},
     "output_type": "execute_result"
    }
   ],
   "source": [
    "train_imputed.DifficultyInBreathing.value_counts()"
   ]
  },
  {
   "cell_type": "code",
   "execution_count": 311,
   "id": "4d977497-f256-4661-a12c-431d2e274049",
   "metadata": {},
   "outputs": [
    {
     "data": {
      "text/plain": [
       "<AxesSubplot:>"
      ]
     },
     "execution_count": 311,
     "metadata": {},
     "output_type": "execute_result"
    },
    {
     "data": {
      "image/png": "[encoded data removed]",
      "text/plain": [
       "<Figure size 432x288 with 1 Axes>"
      ]
     },
     "metadata": {
      "needs_background": "light"
     },
     "output_type": "display_data"
    }
   ],
   "source": [
    "train_imputed.Cough.plot(kind='box')"
   ]
  },
  {
   "cell_type": "code",
   "execution_count": 310,
   "id": "6d788889-c3c8-40df-ab2e-0b06a8e2262a",
   "metadata": {},
   "outputs": [
    {
     "data": {
      "text/plain": [
       "<AxesSubplot:>"
      ]
     },
     "execution_count": 310,
     "metadata": {},
     "output_type": "execute_result"
    },
    {
     "data": {
      "image/png": "[encoded data removed]",
      "text/plain": [
       "<Figure size 432x288 with 1 Axes>"
      ]
     },
     "metadata": {
      "needs_background": "light"
     },
     "output_type": "display_data"
    }
   ],
   "source": [
    "train.pH.plot(kind='box')"
   ]
  },
  {
   "cell_type": "code",
   "execution_count": 236,
   "id": "33056539-785b-4a19-9509-4a220a5f3729",
   "metadata": {},
   "outputs": [
    {
     "data": {
      "text/plain": [
       "<AxesSubplot:>"
      ]
     },
     "execution_count": 236,
     "metadata": {},
     "output_type": "execute_result"
    },
    {
     "data": {
      "image/png": "[encoded data removed]",
      "text/plain": [
       "<Figure size 432x288 with 1 Axes>"
      ]
     },
     "metadata": {
      "needs_background": "light"
     },
     "output_type": "display_data"
    }
   ],
   "source": [
    "train_imputed.RespiratoryFailure.plot(kind='box')"
   ]
  },
  {
   "cell_type": "code",
   "execution_count": 291,
   "id": "ad4ab14c-9132-4a20-8c20-f139db974ce2",
   "metadata": {},
   "outputs": [
    {
     "data": {
      "text/plain": [
       "<AxesSubplot:>"
      ]
     },
     "execution_count": 291,
     "metadata": {},
     "output_type": "execute_result"
    },
    {
     "data": {
      "image/png": "[encoded data removed]",
      "text/plain": [
       "<Figure size 432x288 with 1 Axes>"
      ]
     },
     "metadata": {
      "needs_background": "light"
     },
     "output_type": "display_data"
    }
   ],
   "source": [
    "train_imputed.SaO2.plot(kind='box')"
   ]
  },
  {
   "cell_type": "code",
   "execution_count": 292,
   "id": "8bd8a1fd-e642-440a-b249-eaf1e3038389",
   "metadata": {},
   "outputs": [
    {
     "data": {
      "text/plain": [
       "<AxesSubplot:>"
      ]
     },
     "execution_count": 292,
     "metadata": {},
     "output_type": "execute_result"
    },
    {
     "data": {
      "image/png": "[encoded data removed]",
      "text/plain": [
       "<Figure size 432x288 with 1 Axes>"
      ]
     },
     "metadata": {
      "needs_background": "light"
     },
     "output_type": "display_data"
    }
   ],
   "source": [
    "train.SaO2.plot(kind='box')"
   ]
  },
  {
   "cell_type": "code",
   "execution_count": 243,
   "id": "0a11ec40-9d05-4b2f-b346-ca8b61509fce",
   "metadata": {},
   "outputs": [
    {
     "data": {
      "text/plain": [
       "<AxesSubplot:>"
      ]
     },
     "execution_count": 243,
     "metadata": {},
     "output_type": "execute_result"
    },
    {
     "data": {
      "image/png": "[encoded data removed]",
      "text/plain": [
       "<Figure size 432x288 with 1 Axes>"
      ]
     },
     "metadata": {
      "needs_background": "light"
     },
     "output_type": "display_data"
    }
   ],
   "source": [
    "train.Ddimer.plot(kind='box')"
   ]
  },
  {
   "cell_type": "code",
   "execution_count": 244,
   "id": "28e64da2-5a33-4a9f-980e-0fa9ab6d029d",
   "metadata": {},
   "outputs": [
    {
     "data": {
      "text/plain": [
       "<AxesSubplot:>"
      ]
     },
     "execution_count": 244,
     "metadata": {},
     "output_type": "execute_result"
    },
    {
     "data": {
      "image/png": "[encoded data removed]",
      "text/plain": [
       "<Figure size 432x288 with 1 Axes>"
      ]
     },
     "metadata": {
      "needs_background": "light"
     },
     "output_type": "display_data"
    }
   ],
   "source": [
    "train_imputed.Ddimer.plot(kind='box')"
   ]
  },
  {
   "cell_type": "code",
   "execution_count": null,
   "id": "c3650bd3-210a-4b19-9c2f-215acc48b1df",
   "metadata": {},
   "outputs": [],
   "source": []
  },
  {
   "cell_type": "code",
   "execution_count": null,
   "id": "c9671a35-fbef-458c-9464-e8916ee8fd7c",
   "metadata": {},
   "outputs": [],
   "source": []
  },
  {
   "cell_type": "code",
   "execution_count": null,
   "id": "c007aedd-8fd8-4454-81a8-683ce41a37f4",
   "metadata": {},
   "outputs": [],
   "source": []
  },
  {
   "cell_type": "code",
   "execution_count": 5,
   "id": "7c875e0d-76a1-4de2-8c5a-4039a62bf216",
   "metadata": {},
   "outputs": [],
   "source": [
    "# def make_train_test(df, col):\n",
    "#     # only keep rows with no missing values in col\n",
    "#     test = df.copy()\n",
    "#     test.dropna(subset=[col], inplace=True)\n",
    "    \n",
    "#     # remove some values in col (same fraction as in complete dataset)\n",
    "#     train_index = test.sample(frac=ratio_missing[col]).index\n",
    "#     train = test.copy()\n",
    "#     train.loc[train_index, col] = np.nan\n",
    "    \n",
    "#     return train, test"
   ]
  },
  {
   "cell_type": "code",
   "execution_count": 435,
   "id": "e7aa7b1e-566e-4685-bc28-28d7fd9819be",
   "metadata": {},
   "outputs": [],
   "source": [
    "# # only keep rows with no missing values in col\n",
    "# test = df.copy()\n",
    "# test.dropna(subset=['Ox_percentage'], inplace=True)\n",
    "\n",
    "# train = test.copy()\n",
    "\n",
    "# # remove some values in col (same fraction as in complete dataset)\n",
    "# test_index = test.sample(frac=ratio_missing['Ox_percentage']).index\n",
    "\n",
    "# train.loc[test_index, 'Ox_percentage'] = np.nan"
   ]
  },
  {
   "cell_type": "code",
   "execution_count": 411,
   "id": "66689a90-eee3-44e9-b259-33dfaf26b956",
   "metadata": {},
   "outputs": [
    {
     "data": {
      "text/plain": [
       "0.0"
      ]
     },
     "execution_count": 411,
     "metadata": {},
     "output_type": "execute_result"
    }
   ],
   "source": [
    "# test.Ox_percentage.isnull().mean()"
   ]
  },
  {
   "cell_type": "code",
   "execution_count": 412,
   "id": "1630bf7b-c69b-462a-a10b-4526d3410081",
   "metadata": {},
   "outputs": [
    {
     "data": {
      "text/plain": [
       "0.28225806451612906"
      ]
     },
     "execution_count": 412,
     "metadata": {},
     "output_type": "execute_result"
    }
   ],
   "source": [
    "# train.Ox_percentage.isnull().mean()"
   ]
  },
  {
   "cell_type": "code",
   "execution_count": null,
   "id": "83f2371d-0d60-4e7f-b639-5990d8696fb5",
   "metadata": {},
   "outputs": [],
   "source": []
  },
  {
   "cell_type": "code",
   "execution_count": null,
   "id": "89177eb2-9d3d-4c5f-865f-a1f32e55e88c",
   "metadata": {},
   "outputs": [],
   "source": []
  },
  {
   "cell_type": "code",
   "execution_count": 37,
   "id": "c6aebff5-947b-41de-b918-0ea944b2c403",
   "metadata": {},
   "outputs": [],
   "source": [
    "from sklearn.base import TransformerMixin,BaseEstimator\n",
    "from sklearn.pipeline import Pipeline"
   ]
  },
  {
   "cell_type": "code",
   "execution_count": null,
   "id": "6a8f83d5-cd6e-4bc4-aa37-1de44dc84c8b",
   "metadata": {},
   "outputs": [],
   "source": [
    "class CustomScaler(BaseEstimator, TransformerMixin):\n",
    "    def __init__(self):\n",
    "        super().__init__()\n",
    "        self.means_ = None\n",
    "        self.std_ = None\n",
    "\n",
    "    def fit(self, X, y=None):\n",
    "        X = X.to_numpy()\n",
    "        self.means_ = X.mean(axis=0, keepdims=True)\n",
    "        self.std_ = X.std(axis=0, keepdims=True)\n",
    "\n",
    "        return self\n",
    "\n",
    "    def transform(self, X, y=None):\n",
    "        X[:] = (X.to_numpy() - self.means_) / self.std_\n",
    "\n",
    "        return X"
   ]
  }
 ],
 "metadata": {
  "kernelspec": {
   "display_name": "Python 3",
   "language": "python",
   "name": "python3"
  },
  "language_info": {
   "codemirror_mode": {
    "name": "ipython",
    "version": 3
   },
   "file_extension": ".py",
   "mimetype": "text/x-python",
   "name": "python",
   "nbconvert_exporter": "python",
   "pygments_lexer": "ipython3",
   "version": "3.6.8"
  }
 },
 "nbformat": 4,
 "nbformat_minor": 5
}
