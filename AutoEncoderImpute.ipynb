{
 "cells": [
  {
   "cell_type": "code",
   "execution_count": 1,
   "metadata": {},
   "outputs": [],
   "source": [
    "import pandas as pd\n",
    "import seaborn as sns\n",
    "import numpy as np\n",
    "import matplotlib.pyplot as plt\n",
    "from sklearn.preprocessing import MinMaxScaler\n",
    "from sklearn.model_selection import PredefinedSplit\n",
    "from sklearn.metrics import accuracy_score, mean_absolute_error, mean_squared_error\n",
    "import tensorflow as tf\n",
    "from tensorflow import keras"
   ]
  },
  {
   "cell_type": "markdown",
   "metadata": {},
   "source": [
    "# Denkfehler!\n",
    "\n",
    "Accuracy is not bad though."
   ]
  },
  {
   "cell_type": "code",
   "execution_count": 2,
   "metadata": {},
   "outputs": [],
   "source": [
    "train = pd.read_csv('trainSet.txt')\n",
    "test = pd.read_csv('testSet.txt')"
   ]
  },
  {
   "cell_type": "markdown",
   "metadata": {},
   "source": [
    "## Autoencoder should not work :D "
   ]
  },
  {
   "cell_type": "code",
   "execution_count": 3,
   "metadata": {},
   "outputs": [],
   "source": [
    "def create_model():\n",
    "    \n",
    "    regularizer = keras.regularizers.l1_l2(l1=0.0, l2=0.5)\n",
    "    \n",
    "    inputs = keras.Input(shape=(16,))\n",
    "    \n",
    "    x = keras.layers.Dense(16, activation='relu')(inputs)\n",
    "    # build a little auto-encoder\n",
    "    x = keras.layers.Dense(250, activation='relu', kernel_regularizer=regularizer)(x)\n",
    "    x = keras.layers.Dropout(0.25)(x)\n",
    "\n",
    "    \n",
    "    out1 = keras.layers.Dense(16, activation='sigmoid')(x)\n",
    "    out2 = keras.layers.Dense(1, activation='sigmoid')(x)\n",
    "    \n",
    "    model = keras.Model(inputs, [out1, out2])\n",
    "    \n",
    "    return model"
   ]
  },
  {
   "cell_type": "code",
   "execution_count": 4,
   "metadata": {},
   "outputs": [],
   "source": [
    "# columns to remove:\n",
    "cols_out = ['PatientID', 'ImageFile', 'Hospital', 'Prognosis']\n",
    "\n",
    "train_clean = train[[i for i in train.columns if i not in cols_out]]\n",
    "train_y = train['Prognosis'] == 'MILD'"
   ]
  },
  {
   "cell_type": "code",
   "execution_count": null,
   "metadata": {},
   "outputs": [],
   "source": []
  },
  {
   "cell_type": "code",
   "execution_count": 5,
   "metadata": {},
   "outputs": [],
   "source": [
    "# Factorize hospitals, and use hospitals for cross-validation\n",
    "train.Hospital, mapping_index = train.Hospital.factorize()\n",
    "PF = PredefinedSplit(train['Hospital'])"
   ]
  },
  {
   "cell_type": "code",
   "execution_count": 6,
   "metadata": {},
   "outputs": [],
   "source": [
    "early_stopping = keras.callbacks.EarlyStopping(patience=5, restore_best_weights=True)"
   ]
  },
  {
   "cell_type": "code",
   "execution_count": 9,
   "metadata": {},
   "outputs": [
    {
     "name": "stdout",
     "output_type": "stream",
     "text": [
      "Split D: MSE - 2046692.40 Acc - 0.72 MSES2 - 0.11\n",
      "Train - MSE 0.096, ACC 0.624\n",
      "Split E: MSE - 125171.19 Acc - 0.64 MSES2 - 0.07\n",
      "Train - MSE 0.097, ACC 0.596\n",
      "Split F: MSE - 838455.56 Acc - 0.64 MSES2 - 0.11\n",
      "Train - MSE 0.094, ACC 0.523\n",
      "Split B: MSE - 777479.13 Acc - 0.62 MSES2 - 0.12\n",
      "Train - MSE 0.092, ACC 0.592\n",
      "Split C: MSE - 228335.31 Acc - 0.52 MSES2 - 0.14\n",
      "Train - MSE 0.095, ACC 0.612\n"
     ]
    }
   ],
   "source": [
    "accs, mses, mses2 = [], [], []\n",
    "\n",
    "train_mask = np.isnan(train_clean).values\n",
    "\n",
    "for n, (tr, vl) in enumerate(PF.split(train)):\n",
    "    model = create_model()\n",
    "    model.compile(optimizer=keras.optimizers.Adam(learning_rate=0.001), \n",
    "                  loss=['mse', 'binary_crossentropy'])\n",
    "    MM = MinMaxScaler()\n",
    "    \n",
    "    # Remove Nans\n",
    "    x_train = train_clean.iloc[tr].copy().fillna(0)\n",
    "    x_valid = train_clean.iloc[vl].copy().fillna(0)\n",
    "    # Define y-values\n",
    "    y_train = train_y.iloc[tr]\n",
    "    y_valid = train_y.iloc[vl]\n",
    "    # Scale data from 0 to 1\n",
    "    x_train = MM.fit_transform(x_train)\n",
    "    x_valid = MM.transform(x_valid)\n",
    "    \n",
    "    # Set former nan values to -1\n",
    "    #x_train[train_mask[tr]] = -1\n",
    "    #x_valid[train_mask[vl]] = -1\n",
    "    \n",
    "    # Fit Model\n",
    "    model.fit(x_train, [x_train, y_train], verbose=0, callbacks=[early_stopping], validation_split=0.15,\n",
    "             epochs=250)\n",
    "    \n",
    "    # Predict the things\n",
    "    pred_val, pred_y = model.predict(x_valid)\n",
    "    \n",
    "    _, train_mse, train_acc = model.evaluate(x_train, [x_train, y_train], verbose=0)\n",
    "    \n",
    "    mses.append(mean_squared_error(MM.inverse_transform(x_valid), MM.inverse_transform(pred_val)))\n",
    "    mses2.append(mean_squared_error(x_valid, pred_val))\n",
    "    accs.append(accuracy_score(y_valid, pred_y > 0.5))\n",
    "    \n",
    "    print(f\"Split {mapping_index[n]}: MSE - {mses[-1]:4.2f}\" +\n",
    "          f\" Acc - {accs[-1]:4.2f}\" +\n",
    "          f\" MSES2 - {mses2[-1]:4.2f}\")\n",
    "    \n",
    "    print(f\"Train - MSE {train_mse:4.3f}, ACC {train_acc:4.3f}\")"
   ]
  },
  {
   "cell_type": "code",
   "execution_count": null,
   "metadata": {},
   "outputs": [],
   "source": []
  },
  {
   "cell_type": "code",
   "execution_count": null,
   "metadata": {},
   "outputs": [],
   "source": []
  }
 ],
 "metadata": {
  "kernelspec": {
   "display_name": "Handson",
   "language": "python",
   "name": "handson_ml"
  },
  "language_info": {
   "codemirror_mode": {
    "name": "ipython",
    "version": 3
   },
   "file_extension": ".py",
   "mimetype": "text/x-python",
   "name": "python",
   "nbconvert_exporter": "python",
   "pygments_lexer": "ipython3",
   "version": "3.7.7"
  }
 },
 "nbformat": 4,
 "nbformat_minor": 4
}
